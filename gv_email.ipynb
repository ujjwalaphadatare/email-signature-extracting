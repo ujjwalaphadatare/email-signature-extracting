{
 "cells": [
  {
   "cell_type": "code",
   "execution_count": 2,
   "metadata": {},
   "outputs": [],
   "source": [
    "import pandas as pd"
   ]
  },
  {
   "cell_type": "code",
   "execution_count": 3,
   "metadata": {},
   "outputs": [],
   "source": [
    "import pymongo\n",
    "\n",
    "client = pymongo.MongoClient('192.168.1.28', 27017)\n",
    "\n",
    "client.admin.authenticate('admin', 'athena', mechanism = 'SCRAM-SHA-1')\n",
    "\n",
    "db = client['Emails']\n",
    "\n",
    "collection = db['godvinayak']"
   ]
  },
  {
   "cell_type": "code",
   "execution_count": 4,
   "metadata": {},
   "outputs": [],
   "source": [
    "records = list(collection.find())"
   ]
  },
  {
   "cell_type": "code",
   "execution_count": 5,
   "metadata": {},
   "outputs": [],
   "source": [
    "import re\n",
    "import time\n",
    "from dateutil.parser import parse\n",
    "import datetime\n",
    "from datetime import datetime\n",
    "import base64\n",
    "from bs4 import BeautifulSoup\n",
    "class MailParser:\n",
    "    def __init__(self):\n",
    "        pass\n",
    "    \n",
    "    def parse_email(self,message):\n",
    "        temp_dict = {}\n",
    "        payld = message['payload'] # get payload of the message \n",
    "        headr = payld['headers'] # get header of the payload\n",
    "\n",
    "\n",
    "        for one in headr: # getting the Subject\n",
    "            if one['name'] == 'Subject':\n",
    "                msg_subject = one['value']\n",
    "                temp_dict['Subject'] = msg_subject\n",
    "            elif one['name'] == 'Date':\n",
    "                try:\n",
    "                    msg_date = one['value']\n",
    "                    date_parse = parse(msg_date)\n",
    "                    m_date = date_parse.date()\n",
    "                    temp_dict['Date'] = str(m_date)\n",
    "\n",
    "                except:\n",
    "                    pass\n",
    "                #temp_dict['Date'] = str(m_date)\n",
    "            elif one['name'] == 'From':\n",
    "                msg_from = one['value']\n",
    "                temp_dict['Sender'] = msg_from\n",
    "            elif one['name'] == 'To':\n",
    "                msg_from = one['value']\n",
    "                temp_dict['Receiver'] = msg_from\n",
    "            else:\n",
    "                pass\n",
    "\n",
    "        temp_dict['Snippet'] = message['snippet'] # fetching message snippet\n",
    "\n",
    "\n",
    "        try:\n",
    "            \n",
    "            # Fetching message body\n",
    "            mssg_parts = payld['parts'] # fetching the message parts\n",
    "            part_one  = mssg_parts[0] # fetching first element of the part \n",
    "            part_body = part_one['body'] # fetching body of the message\n",
    "            part_data = part_body['data'] # fetching data from the body\n",
    "            clean_one = part_data.replace(\"-\",\"+\") # decoding from Base64 to UTF-8\n",
    "            clean_one = clean_one.replace(\"_\",\"/\") # decoding from Base64 to UTF-8\n",
    "            clean_two = base64.b64decode (bytes(clean_one, 'UTF-8')) # decoding from Base64 to UTF-8\n",
    "            soup = BeautifulSoup(clean_two , \"lxml\" )\n",
    "            mssg_body = soup.body()\n",
    "            # mssg_body is a readible form of message body\n",
    "            # depending on the end user's requirements, it can be further cleaned \n",
    "            # using regex, beautiful soup, or any other method\n",
    "            temp_dict['Message_body'] = mssg_body\n",
    "\n",
    "        except :\n",
    "            pass\n",
    "        return temp_dict"
   ]
  },
  {
   "cell_type": "code",
   "execution_count": 6,
   "metadata": {},
   "outputs": [],
   "source": [
    "x=MailParser()"
   ]
  },
  {
   "cell_type": "code",
   "execution_count": 292,
   "metadata": {},
   "outputs": [
    {
     "data": {
      "text/plain": [
       "{'Date': '2019-05-27', 'Message_body': [<p>Swiss001 just uploaded a video\n",
       "  Plane Has Birdstrike ON The Runway\n",
       "  http://www.youtube.com/watch?v=PtPxcDMRv-8&amp;feature=em-uploademail\n",
       "  You can unsubscribe from notifications for this user by visiting the  \n",
       "  subscription center:\n",
       "  http://www.youtube.com/subscription_manager\n",
       "  </p>], 'Receiver': 'Vinayak Godse <godvinayak@gmail.com>', 'Sender': 'YouTube <noreply@youtube.com>', 'Snippet': 'Swiss001 has uploaded Plane Has Birdstrike ON The Runway Today&#39;s Video: Plane Has Bi... Youtube Logo 4:33 Plane Has Birdstrike ON The Runway Swiss001 You were sent this email because you chose to', 'Subject': 'Swiss001 just uploaded a video'}"
      ]
     },
     "execution_count": 292,
     "metadata": {},
     "output_type": "execute_result"
    }
   ],
   "source": [
    "x.parse_email(records[0])"
   ]
  },
  {
   "cell_type": "code",
   "execution_count": 8,
   "metadata": {},
   "outputs": [
    {
     "data": {
      "text/plain": [
       "23769"
      ]
     },
     "execution_count": 8,
     "metadata": {},
     "output_type": "execute_result"
    }
   ],
   "source": [
    "len(records)"
   ]
  },
  {
   "cell_type": "code",
   "execution_count": 9,
   "metadata": {},
   "outputs": [
    {
     "data": {
      "text/plain": [
       "False"
      ]
     },
     "execution_count": 9,
     "metadata": {},
     "output_type": "execute_result"
    }
   ],
   "source": [
    "any(x is None for x in records)"
   ]
  },
  {
   "cell_type": "code",
   "execution_count": 10,
   "metadata": {},
   "outputs": [
    {
     "name": "stderr",
     "output_type": "stream",
     "text": [
      "/home/prakash/anaconda3/envs/tensorflow/lib/python3.5/site-packages/bs4/__init__.py:282: UserWarning: \"http://intra.crysagi.com:8080/\n",
      "\" looks like a URL. Beautiful Soup is not an HTTP client. You should probably use an HTTP client like requests to get the document behind the URL, and feed that document to Beautiful Soup.\n",
      "  ' that document to Beautiful Soup.' % decoded_markup\n",
      "/home/prakash/anaconda3/envs/tensorflow/lib/python3.5/site-packages/bs4/__init__.py:282: UserWarning: \"https://www.sciencedaily.com/releases/2017/04/170426131013.htm\n",
      "\" looks like a URL. Beautiful Soup is not an HTTP client. You should probably use an HTTP client like requests to get the document behind the URL, and feed that document to Beautiful Soup.\n",
      "  ' that document to Beautiful Soup.' % decoded_markup\n",
      "/home/prakash/anaconda3/envs/tensorflow/lib/python3.5/site-packages/bs4/__init__.py:282: UserWarning: \"https://www.sciencedaily.com/releases/2018/12/181203131102.htm\n",
      "\" looks like a URL. Beautiful Soup is not an HTTP client. You should probably use an HTTP client like requests to get the document behind the URL, and feed that document to Beautiful Soup.\n",
      "  ' that document to Beautiful Soup.' % decoded_markup\n",
      "/home/prakash/anaconda3/envs/tensorflow/lib/python3.5/site-packages/bs4/__init__.py:282: UserWarning: \"http://delhi.gov.in/wps/wcm/connect/doit_southwest/South+West+District/Home/Contact+Us\n",
      "\" looks like a URL. Beautiful Soup is not an HTTP client. You should probably use an HTTP client like requests to get the document behind the URL, and feed that document to Beautiful Soup.\n",
      "  ' that document to Beautiful Soup.' % decoded_markup\n",
      "/home/prakash/anaconda3/envs/tensorflow/lib/python3.5/site-packages/bs4/__init__.py:282: UserWarning: \"https://hangouts.google.com/call/KaI-bSsc8K8nNjUOlTf_AEEM\n",
      "\" looks like a URL. Beautiful Soup is not an HTTP client. You should probably use an HTTP client like requests to get the document behind the URL, and feed that document to Beautiful Soup.\n",
      "  ' that document to Beautiful Soup.' % decoded_markup\n",
      "/home/prakash/anaconda3/envs/tensorflow/lib/python3.5/site-packages/bs4/__init__.py:282: UserWarning: \"https://www.youtube.com/watch?v=qKgnV5FaN-w\n",
      "\n",
      "\" looks like a URL. Beautiful Soup is not an HTTP client. You should probably use an HTTP client like requests to get the document behind the URL, and feed that document to Beautiful Soup.\n",
      "  ' that document to Beautiful Soup.' % decoded_markup\n",
      "/home/prakash/anaconda3/envs/tensorflow/lib/python3.5/site-packages/bs4/__init__.py:282: UserWarning: \"https://www.loksatta.com/maharashtra-news/450-crore-scam-in-seven-hills-1612518/\n",
      "\" looks like a URL. Beautiful Soup is not an HTTP client. You should probably use an HTTP client like requests to get the document behind the URL, and feed that document to Beautiful Soup.\n",
      "  ' that document to Beautiful Soup.' % decoded_markup\n",
      "/home/prakash/anaconda3/envs/tensorflow/lib/python3.5/site-packages/bs4/__init__.py:282: UserWarning: \"http://www.newscrunch.in/2016/12/high-tech-solar-cells-power-shivaji-statue-light-mumbai-city-major-tech-breakthrough-after\n",
      "\" looks like a URL. Beautiful Soup is not an HTTP client. You should probably use an HTTP client like requests to get the document behind the URL, and feed that document to Beautiful Soup.\n",
      "  ' that document to Beautiful Soup.' % decoded_markup\n",
      "/home/prakash/anaconda3/envs/tensorflow/lib/python3.5/site-packages/bs4/__init__.py:282: UserWarning: \"https://www.surveymonkey.com/r/DV295QX\n",
      "\" looks like a URL. Beautiful Soup is not an HTTP client. You should probably use an HTTP client like requests to get the document behind the URL, and feed that document to Beautiful Soup.\n",
      "  ' that document to Beautiful Soup.' % decoded_markup\n",
      "/home/prakash/anaconda3/envs/tensorflow/lib/python3.5/site-packages/bs4/__init__.py:282: UserWarning: \"https://www.facebook.com/groups/satara.it/\n",
      "\n",
      "\n",
      "\n",
      "\" looks like a URL. Beautiful Soup is not an HTTP client. You should probably use an HTTP client like requests to get the document behind the URL, and feed that document to Beautiful Soup.\n",
      "  ' that document to Beautiful Soup.' % decoded_markup\n",
      "/home/prakash/anaconda3/envs/tensorflow/lib/python3.5/site-packages/bs4/__init__.py:282: UserWarning: \"http://scroll.in/article/683529/Four-Indian-apps-that-are-strong-contenders-for-Facebooks-250000-social-innovation-prize\n",
      "\" looks like a URL. Beautiful Soup is not an HTTP client. You should probably use an HTTP client like requests to get the document behind the URL, and feed that document to Beautiful Soup.\n",
      "  ' that document to Beautiful Soup.' % decoded_markup\n",
      "/home/prakash/anaconda3/envs/tensorflow/lib/python3.5/site-packages/bs4/__init__.py:282: UserWarning: \"http://narendramodifacts.com/docs/look-whos-romancing-the-autocrat.html\n",
      "\" looks like a URL. Beautiful Soup is not an HTTP client. You should probably use an HTTP client like requests to get the document behind the URL, and feed that document to Beautiful Soup.\n",
      "  ' that document to Beautiful Soup.' % decoded_markup\n",
      "/home/prakash/anaconda3/envs/tensorflow/lib/python3.5/site-packages/bs4/__init__.py:282: UserWarning: \"http://www.jainlibrary.org/english.php\n",
      "\" looks like a URL. Beautiful Soup is not an HTTP client. You should probably use an HTTP client like requests to get the document behind the URL, and feed that document to Beautiful Soup.\n",
      "  ' that document to Beautiful Soup.' % decoded_markup\n",
      "/home/prakash/anaconda3/envs/tensorflow/lib/python3.5/site-packages/bs4/__init__.py:282: UserWarning: \"http://www.linkedin.com/jobs?viewJob=&jobId=977532&fromSearch=2&sik=1275283367586\n",
      "\" looks like a URL. Beautiful Soup is not an HTTP client. You should probably use an HTTP client like requests to get the document behind the URL, and feed that document to Beautiful Soup.\n",
      "  ' that document to Beautiful Soup.' % decoded_markup\n"
     ]
    }
   ],
   "source": [
    "rec_email=[x.parse_email(record) for record in records]"
   ]
  },
  {
   "cell_type": "code",
   "execution_count": 11,
   "metadata": {},
   "outputs": [
    {
     "data": {
      "text/plain": [
       "23769"
      ]
     },
     "execution_count": 11,
     "metadata": {},
     "output_type": "execute_result"
    }
   ],
   "source": [
    "len(rec_email)"
   ]
  },
  {
   "cell_type": "markdown",
   "metadata": {},
   "source": [
    "### for getting group of threads"
   ]
  },
  {
   "cell_type": "code",
   "execution_count": 12,
   "metadata": {},
   "outputs": [],
   "source": [
    "def get_threadid(records): #define over records\n",
    "        return records['threadId'] #fetching threadId to list"
   ]
  },
  {
   "cell_type": "code",
   "execution_count": 13,
   "metadata": {},
   "outputs": [],
   "source": [
    "threadid = [get_threadid(x) for x in records]"
   ]
  },
  {
   "cell_type": "code",
   "execution_count": 14,
   "metadata": {},
   "outputs": [],
   "source": [
    "def creat_df(rec_email):\n",
    "    df=pd.DataFrame(rec_email)\n",
    "    df['threadId']=threadid\n",
    "    df=df.dropna().reset_index()\n",
    "    df=df.drop(['index','Snippet','Subject'],axis=1)\n",
    "    df = df.fillna('')\n",
    "    return df"
   ]
  },
  {
   "cell_type": "code",
   "execution_count": 15,
   "metadata": {},
   "outputs": [],
   "source": [
    "df_email=creat_df(rec_email)"
   ]
  },
  {
   "cell_type": "code",
   "execution_count": 16,
   "metadata": {},
   "outputs": [
    {
     "data": {
      "text/html": [
       "<div>\n",
       "<style scoped>\n",
       "    .dataframe tbody tr th:only-of-type {\n",
       "        vertical-align: middle;\n",
       "    }\n",
       "\n",
       "    .dataframe tbody tr th {\n",
       "        vertical-align: top;\n",
       "    }\n",
       "\n",
       "    .dataframe thead th {\n",
       "        text-align: right;\n",
       "    }\n",
       "</style>\n",
       "<table border=\"1\" class=\"dataframe\">\n",
       "  <thead>\n",
       "    <tr style=\"text-align: right;\">\n",
       "      <th></th>\n",
       "      <th>Date</th>\n",
       "      <th>Message_body</th>\n",
       "      <th>Receiver</th>\n",
       "      <th>Sender</th>\n",
       "      <th>threadId</th>\n",
       "    </tr>\n",
       "  </thead>\n",
       "  <tbody>\n",
       "    <tr>\n",
       "      <th>0</th>\n",
       "      <td>2019-05-27</td>\n",
       "      <td>[&lt;p&gt;Swiss001 just uploaded a video\r\n",
       "Plane Has ...</td>\n",
       "      <td>Vinayak Godse &lt;godvinayak@gmail.com&gt;</td>\n",
       "      <td>YouTube &lt;noreply@youtube.com&gt;</td>\n",
       "      <td>16afaea769e0e1e6</td>\n",
       "    </tr>\n",
       "    <tr>\n",
       "      <th>1</th>\n",
       "      <td>2019-05-27</td>\n",
       "      <td>[&lt;p&gt;Vinayak's Digest\r\n",
       "Your Quora Digest\r\n",
       "\r\n",
       "---...</td>\n",
       "      <td>godvinayak@gmail.com</td>\n",
       "      <td>Quora Digest &lt;digest-noreply@quora.com&gt;</td>\n",
       "      <td>16af99bc0fdfb81f</td>\n",
       "    </tr>\n",
       "    <tr>\n",
       "      <th>2</th>\n",
       "      <td>2019-05-27</td>\n",
       "      <td>[&lt;p&gt;Twitter \r\n",
       "&amp;gt; https://twitter.com\r\n",
       "\r\n",
       "You'...</td>\n",
       "      <td>Vinayak Godse &lt;godvinayak@gmail.com&gt;</td>\n",
       "      <td>Twitter &lt;notify@twitter.com&gt;</td>\n",
       "      <td>16af96c4a9046f5d</td>\n",
       "    </tr>\n",
       "    <tr>\n",
       "      <th>3</th>\n",
       "      <td>2019-05-27</td>\n",
       "      <td>[&lt;p&gt;Hello Vinayak,\r\n",
       "You've recently bought a T...</td>\n",
       "      <td>godvinayak@gmail.com</td>\n",
       "      <td>Lenskart &lt;support@lenskart.com&gt;</td>\n",
       "      <td>16af898a3651bb1f</td>\n",
       "    </tr>\n",
       "    <tr>\n",
       "      <th>4</th>\n",
       "      <td>2019-05-27</td>\n",
       "      <td>[&lt;p&gt;ÿ ICICI Bank \r\n",
       "\r\n",
       " You came. You transacted...</td>\n",
       "      <td>godvinayak@gmail.com</td>\n",
       "      <td>ICICI Bank Privilege Banking &lt;marketing@custco...</td>\n",
       "      <td>16af86bb4eb8dddb</td>\n",
       "    </tr>\n",
       "  </tbody>\n",
       "</table>\n",
       "</div>"
      ],
      "text/plain": [
       "         Date                                       Message_body  \\\n",
       "0  2019-05-27  [<p>Swiss001 just uploaded a video\n",
       "Plane Has ...   \n",
       "1  2019-05-27  [<p>Vinayak's Digest\n",
       "Your Quora Digest\n",
       "\n",
       "---...   \n",
       "2  2019-05-27  [<p>Twitter \n",
       "&gt; https://twitter.com\n",
       "\n",
       "You'...   \n",
       "3  2019-05-27  [<p>Hello Vinayak,\n",
       "You've recently bought a T...   \n",
       "4  2019-05-27  [<p>ÿ ICICI Bank \n",
       "\n",
       " You came. You transacted...   \n",
       "\n",
       "                               Receiver  \\\n",
       "0  Vinayak Godse <godvinayak@gmail.com>   \n",
       "1                  godvinayak@gmail.com   \n",
       "2  Vinayak Godse <godvinayak@gmail.com>   \n",
       "3                  godvinayak@gmail.com   \n",
       "4                  godvinayak@gmail.com   \n",
       "\n",
       "                                              Sender          threadId  \n",
       "0                      YouTube <noreply@youtube.com>  16afaea769e0e1e6  \n",
       "1            Quora Digest <digest-noreply@quora.com>  16af99bc0fdfb81f  \n",
       "2                       Twitter <notify@twitter.com>  16af96c4a9046f5d  \n",
       "3                    Lenskart <support@lenskart.com>  16af898a3651bb1f  \n",
       "4  ICICI Bank Privilege Banking <marketing@custco...  16af86bb4eb8dddb  "
      ]
     },
     "execution_count": 16,
     "metadata": {},
     "output_type": "execute_result"
    }
   ],
   "source": [
    "df_email.head()"
   ]
  },
  {
   "cell_type": "code",
   "execution_count": 17,
   "metadata": {},
   "outputs": [
    {
     "data": {
      "text/plain": [
       "16930"
      ]
     },
     "execution_count": 17,
     "metadata": {},
     "output_type": "execute_result"
    }
   ],
   "source": [
    "len(df_email)"
   ]
  },
  {
   "cell_type": "code",
   "execution_count": 18,
   "metadata": {},
   "outputs": [],
   "source": [
    "def get_string_msg(message):\n",
    "        msg=[str(x) for x in message[0]]   # to get string type\n",
    "        a=''.join(msg)\n",
    "        return a"
   ]
  },
  {
   "cell_type": "code",
   "execution_count": 19,
   "metadata": {},
   "outputs": [],
   "source": [
    "df_email['Message_body']=df_email.Message_body.apply(lambda x: get_string_msg(x))"
   ]
  },
  {
   "cell_type": "code",
   "execution_count": 20,
   "metadata": {},
   "outputs": [],
   "source": [
    "# for splitting threads and remove replies\n",
    "def get_main_email(x):\n",
    "    x=x.split('wrote:') # splitting message from reply\n",
    "    a=x[0].strip('[]')\n",
    "    b=re.sub(r'^On.*\\n?.*', '', a, flags=re.MULTILINE) # regex for removing extra line from email body\n",
    "    return b"
   ]
  },
  {
   "cell_type": "code",
   "execution_count": 21,
   "metadata": {},
   "outputs": [],
   "source": [
    "df_email['Message_body']=df_email.Message_body.apply(lambda x: get_main_email(x))"
   ]
  },
  {
   "cell_type": "code",
   "execution_count": 22,
   "metadata": {},
   "outputs": [],
   "source": [
    "# assigning ids for each message body\n",
    "def get_ids(x):\n",
    "    return id(x)"
   ]
  },
  {
   "cell_type": "code",
   "execution_count": 23,
   "metadata": {},
   "outputs": [],
   "source": [
    "df_email['ids'] = df_email.Message_body.apply(lambda x: get_ids(x)) # give unique id to each message"
   ]
  },
  {
   "cell_type": "code",
   "execution_count": 24,
   "metadata": {},
   "outputs": [],
   "source": [
    "def unique_thread(df):\n",
    "    unique_thread=pd.DataFrame(df.threadId.unique(),columns=['thread'])\n",
    "    return unique_thread"
   ]
  },
  {
   "cell_type": "code",
   "execution_count": 25,
   "metadata": {},
   "outputs": [],
   "source": [
    "unique_thread=unique_thread(df_email)"
   ]
  },
  {
   "cell_type": "code",
   "execution_count": 26,
   "metadata": {},
   "outputs": [],
   "source": [
    "#grouping list of unique ids for threadId\n",
    "def thread_id(x,df):\n",
    "    a=df.ids[df.threadId == x] \n",
    "    return [x,a]"
   ]
  },
  {
   "cell_type": "code",
   "execution_count": 27,
   "metadata": {},
   "outputs": [],
   "source": [
    "msr_thread=unique_thread.thread.apply(lambda x: thread_id(x,df_email))"
   ]
  },
  {
   "cell_type": "code",
   "execution_count": 296,
   "metadata": {},
   "outputs": [
    {
     "data": {
      "text/plain": [
       "0    [16afaea769e0e1e6, [140079695702640]]\n",
       "1         [16af99bc0fdfb81f, [1988135120]]\n",
       "2         [16af96c4a9046f5d, [1987801568]]\n",
       "3    [16af898a3651bb1f, [140079662125360]]\n",
       "4         [16af86bb4eb8dddb, [1988153136]]\n",
       "Name: thread, dtype: object"
      ]
     },
     "execution_count": 296,
     "metadata": {},
     "output_type": "execute_result"
    }
   ],
   "source": [
    "msr_thread[0:5]"
   ]
  },
  {
   "cell_type": "code",
   "execution_count": 28,
   "metadata": {},
   "outputs": [],
   "source": [
    "# creating dictionary such that keys are threadids and values are list of ids from dataframe\n",
    "def creat_dict(msr_thread):\n",
    "    dct_thread={}\n",
    "    for i in range(len(msr_thread)):\n",
    "        key=msr_thread[i][0]\n",
    "        val=msr_thread[i][1].tolist()\n",
    "        dct_thread[key]=val\n",
    "    return dct_thread"
   ]
  },
  {
   "cell_type": "code",
   "execution_count": 29,
   "metadata": {},
   "outputs": [],
   "source": [
    "dct_thread=creat_dict(msr_thread)"
   ]
  },
  {
   "cell_type": "code",
   "execution_count": 299,
   "metadata": {},
   "outputs": [
    {
     "data": {
      "text/plain": [
       "[140079661451208,\n",
       " 140079662253232,\n",
       " 1988020400,\n",
       " 140079661561488,\n",
       " 140079661381048,\n",
       " 1992032288,\n",
       " 140079676918560,\n",
       " 1988005280,\n",
       " 1988022560,\n",
       " 1992274032]"
      ]
     },
     "execution_count": 299,
     "metadata": {},
     "output_type": "execute_result"
    }
   ],
   "source": [
    "dct_thread['16a82d25f95e4733']"
   ]
  },
  {
   "cell_type": "code",
   "execution_count": 30,
   "metadata": {},
   "outputs": [],
   "source": [
    "df_email.to_csv('gv_email.csv',index=False)"
   ]
  },
  {
   "cell_type": "markdown",
   "metadata": {},
   "source": [
    "### extracting signature"
   ]
  },
  {
   "cell_type": "code",
   "execution_count": 31,
   "metadata": {},
   "outputs": [
    {
     "data": {
      "text/html": [
       "<div>\n",
       "<style scoped>\n",
       "    .dataframe tbody tr th:only-of-type {\n",
       "        vertical-align: middle;\n",
       "    }\n",
       "\n",
       "    .dataframe tbody tr th {\n",
       "        vertical-align: top;\n",
       "    }\n",
       "\n",
       "    .dataframe thead th {\n",
       "        text-align: right;\n",
       "    }\n",
       "</style>\n",
       "<table border=\"1\" class=\"dataframe\">\n",
       "  <thead>\n",
       "    <tr style=\"text-align: right;\">\n",
       "      <th></th>\n",
       "      <th>Date</th>\n",
       "      <th>Message_body</th>\n",
       "      <th>Receiver</th>\n",
       "      <th>Sender</th>\n",
       "      <th>threadId</th>\n",
       "      <th>ids</th>\n",
       "    </tr>\n",
       "  </thead>\n",
       "  <tbody>\n",
       "    <tr>\n",
       "      <th>0</th>\n",
       "      <td>2019-05-27</td>\n",
       "      <td>Swiss001 just uploaded a video\\r\\nPlane Has Bi...</td>\n",
       "      <td>Vinayak Godse &lt;godvinayak@gmail.com&gt;</td>\n",
       "      <td>YouTube &lt;noreply@youtube.com&gt;</td>\n",
       "      <td>16afaea769e0e1e6</td>\n",
       "      <td>140079695702640</td>\n",
       "    </tr>\n",
       "    <tr>\n",
       "      <th>1</th>\n",
       "      <td>2019-05-27</td>\n",
       "      <td>Vinayak's Digest\\r\\nYour Quora Digest\\r\\n\\r\\n-...</td>\n",
       "      <td>godvinayak@gmail.com</td>\n",
       "      <td>Quora Digest &lt;digest-noreply@quora.com&gt;</td>\n",
       "      <td>16af99bc0fdfb81f</td>\n",
       "      <td>1988135120</td>\n",
       "    </tr>\n",
       "    <tr>\n",
       "      <th>2</th>\n",
       "      <td>2019-05-27</td>\n",
       "      <td>Twitter \\r\\n&gt; https://twitter.com\\r\\n\\r\\nYou'v...</td>\n",
       "      <td>Vinayak Godse &lt;godvinayak@gmail.com&gt;</td>\n",
       "      <td>Twitter &lt;notify@twitter.com&gt;</td>\n",
       "      <td>16af96c4a9046f5d</td>\n",
       "      <td>1987801568</td>\n",
       "    </tr>\n",
       "    <tr>\n",
       "      <th>3</th>\n",
       "      <td>2019-05-27</td>\n",
       "      <td>Hello Vinayak,\\r\\nYou've recently bought a Tor...</td>\n",
       "      <td>godvinayak@gmail.com</td>\n",
       "      <td>Lenskart &lt;support@lenskart.com&gt;</td>\n",
       "      <td>16af898a3651bb1f</td>\n",
       "      <td>140079662125360</td>\n",
       "    </tr>\n",
       "    <tr>\n",
       "      <th>4</th>\n",
       "      <td>2019-05-27</td>\n",
       "      <td>ÿ ICICI Bank \\r\\n\\r\\n You came. You transacted...</td>\n",
       "      <td>godvinayak@gmail.com</td>\n",
       "      <td>ICICI Bank Privilege Banking &lt;marketing@custco...</td>\n",
       "      <td>16af86bb4eb8dddb</td>\n",
       "      <td>1988153136</td>\n",
       "    </tr>\n",
       "  </tbody>\n",
       "</table>\n",
       "</div>"
      ],
      "text/plain": [
       "         Date                                       Message_body  \\\n",
       "0  2019-05-27  Swiss001 just uploaded a video\\r\\nPlane Has Bi...   \n",
       "1  2019-05-27  Vinayak's Digest\\r\\nYour Quora Digest\\r\\n\\r\\n-...   \n",
       "2  2019-05-27  Twitter \\r\\n> https://twitter.com\\r\\n\\r\\nYou'v...   \n",
       "3  2019-05-27  Hello Vinayak,\\r\\nYou've recently bought a Tor...   \n",
       "4  2019-05-27  ÿ ICICI Bank \\r\\n\\r\\n You came. You transacted...   \n",
       "\n",
       "                               Receiver  \\\n",
       "0  Vinayak Godse <godvinayak@gmail.com>   \n",
       "1                  godvinayak@gmail.com   \n",
       "2  Vinayak Godse <godvinayak@gmail.com>   \n",
       "3                  godvinayak@gmail.com   \n",
       "4                  godvinayak@gmail.com   \n",
       "\n",
       "                                              Sender          threadId  \\\n",
       "0                      YouTube <noreply@youtube.com>  16afaea769e0e1e6   \n",
       "1            Quora Digest <digest-noreply@quora.com>  16af99bc0fdfb81f   \n",
       "2                       Twitter <notify@twitter.com>  16af96c4a9046f5d   \n",
       "3                    Lenskart <support@lenskart.com>  16af898a3651bb1f   \n",
       "4  ICICI Bank Privilege Banking <marketing@custco...  16af86bb4eb8dddb   \n",
       "\n",
       "               ids  \n",
       "0  140079695702640  \n",
       "1       1988135120  \n",
       "2       1987801568  \n",
       "3  140079662125360  \n",
       "4       1988153136  "
      ]
     },
     "execution_count": 31,
     "metadata": {},
     "output_type": "execute_result"
    }
   ],
   "source": [
    "df_email.head()"
   ]
  },
  {
   "cell_type": "code",
   "execution_count": 216,
   "metadata": {},
   "outputs": [],
   "source": [
    "from talon.signature.bruteforce import extract_signature\n",
    "import re\n",
    "\n",
    "def clean_data(message):\n",
    "    message = message.replace('\\r','').replace('\\\\r','').replace('>','').replace('<','').replace('//','').replace('\\\\n','\\n').replace('Regards','\\nRegards').replace('regards','\\nregards')\n",
    "    return message\n",
    "\n",
    "def get_signature(email):\n",
    "    return extract_signature(email)[1]"
   ]
  },
  {
   "cell_type": "code",
   "execution_count": 217,
   "metadata": {},
   "outputs": [
    {
     "data": {
      "text/html": [
       "<div>\n",
       "<style scoped>\n",
       "    .dataframe tbody tr th:only-of-type {\n",
       "        vertical-align: middle;\n",
       "    }\n",
       "\n",
       "    .dataframe tbody tr th {\n",
       "        vertical-align: top;\n",
       "    }\n",
       "\n",
       "    .dataframe thead th {\n",
       "        text-align: right;\n",
       "    }\n",
       "</style>\n",
       "<table border=\"1\" class=\"dataframe\">\n",
       "  <thead>\n",
       "    <tr style=\"text-align: right;\">\n",
       "      <th></th>\n",
       "      <th>Date</th>\n",
       "      <th>Message_body</th>\n",
       "      <th>Receiver</th>\n",
       "      <th>Sender</th>\n",
       "      <th>threadId</th>\n",
       "      <th>ids</th>\n",
       "      <th>Signature</th>\n",
       "    </tr>\n",
       "  </thead>\n",
       "  <tbody>\n",
       "    <tr>\n",
       "      <th>144</th>\n",
       "      <td>2019-05-14</td>\n",
       "      <td>Dear Sir,\\n\\nWe have received Rs.125,000/-.\\n\\...</td>\n",
       "      <td>Varad Godse &lt;godvarad@gmail.com&gt;, Finance &lt;Fin...</td>\n",
       "      <td>Divya Agrawal &lt;divya.agrawal@bennett.edu.in&gt;</td>\n",
       "      <td>16ab45f77fa7d4e0</td>\n",
       "      <td>1988755056</td>\n",
       "      <td>Regards\\nVarad Vinayak Godse\\n/admissions/fina...</td>\n",
       "    </tr>\n",
       "    <tr>\n",
       "      <th>145</th>\n",
       "      <td>2019-05-14</td>\n",
       "      <td>Thank you very much Sir.\\n\\nMy father has tran...</td>\n",
       "      <td>Admissions Bennett University &lt;admissions@benn...</td>\n",
       "      <td>Varad Godse &lt;godvarad@gmail.com&gt;</td>\n",
       "      <td>16a9b6a02ea160bc</td>\n",
       "      <td>140079661084976</td>\n",
       "      <td>Regards\\nVarad Vinayak Godse</td>\n",
       "    </tr>\n",
       "    <tr>\n",
       "      <th>151</th>\n",
       "      <td>2019-05-13</td>\n",
       "      <td>Varad\\nWe appreciate your concern\\nI am changi...</td>\n",
       "      <td>Varad Godse &lt;godvarad@gmail.com&gt;</td>\n",
       "      <td>Admissions Bennett University &lt;admissions@benn...</td>\n",
       "      <td>16a9b6a02ea160bc</td>\n",
       "      <td>1988013424</td>\n",
       "      <td>regards\\nVarad Vinayak Godse</td>\n",
       "    </tr>\n",
       "    <tr>\n",
       "      <th>155</th>\n",
       "      <td>2019-05-13</td>\n",
       "      <td>Dear Sir,\\n\\nSince I got the provisional admis...</td>\n",
       "      <td>Admissions Bennett University &lt;admissions@benn...</td>\n",
       "      <td>Varad Godse &lt;godvarad@gmail.com&gt;</td>\n",
       "      <td>16a9b6a02ea160bc</td>\n",
       "      <td>1987999744</td>\n",
       "      <td>regards\\nVarad Vinayak Godse</td>\n",
       "    </tr>\n",
       "    <tr>\n",
       "      <th>193</th>\n",
       "      <td>2019-05-09</td>\n",
       "      <td>Welcome on board Vinayak\\nBesties\\nRegistrar\\n...</td>\n",
       "      <td>Varad Godse &lt;godvarad@gmail.com&gt;</td>\n",
       "      <td>Admissions Bennett University &lt;admissions@benn...</td>\n",
       "      <td>16a9b6a02ea160bc</td>\n",
       "      <td>1988001072</td>\n",
       "      <td>Regards\\n\\nVinayak</td>\n",
       "    </tr>\n",
       "  </tbody>\n",
       "</table>\n",
       "</div>"
      ],
      "text/plain": [
       "           Date                                       Message_body  \\\n",
       "144  2019-05-14  Dear Sir,\\n\\nWe have received Rs.125,000/-.\\n\\...   \n",
       "145  2019-05-14  Thank you very much Sir.\\n\\nMy father has tran...   \n",
       "151  2019-05-13  Varad\\nWe appreciate your concern\\nI am changi...   \n",
       "155  2019-05-13  Dear Sir,\\n\\nSince I got the provisional admis...   \n",
       "193  2019-05-09  Welcome on board Vinayak\\nBesties\\nRegistrar\\n...   \n",
       "\n",
       "                                              Receiver  \\\n",
       "144  Varad Godse <godvarad@gmail.com>, Finance <Fin...   \n",
       "145  Admissions Bennett University <admissions@benn...   \n",
       "151                   Varad Godse <godvarad@gmail.com>   \n",
       "155  Admissions Bennett University <admissions@benn...   \n",
       "193                   Varad Godse <godvarad@gmail.com>   \n",
       "\n",
       "                                                Sender          threadId  \\\n",
       "144       Divya Agrawal <divya.agrawal@bennett.edu.in>  16ab45f77fa7d4e0   \n",
       "145                   Varad Godse <godvarad@gmail.com>  16a9b6a02ea160bc   \n",
       "151  Admissions Bennett University <admissions@benn...  16a9b6a02ea160bc   \n",
       "155                   Varad Godse <godvarad@gmail.com>  16a9b6a02ea160bc   \n",
       "193  Admissions Bennett University <admissions@benn...  16a9b6a02ea160bc   \n",
       "\n",
       "                 ids                                          Signature  \n",
       "144       1988755056  Regards\\nVarad Vinayak Godse\\n/admissions/fina...  \n",
       "145  140079661084976                       Regards\\nVarad Vinayak Godse  \n",
       "151       1988013424                       regards\\nVarad Vinayak Godse  \n",
       "155       1987999744                       regards\\nVarad Vinayak Godse  \n",
       "193       1988001072                                 Regards\\n\\nVinayak  "
      ]
     },
     "execution_count": 217,
     "metadata": {},
     "output_type": "execute_result"
    }
   ],
   "source": [
    "df_email['Message_body'] = df_email['Message_body'].apply(lambda x:clean_data(x))\n",
    "df_email['Signature'] = df_email['Message_body'].apply(lambda x:get_signature(x))\n",
    "df_email['Signature'] = df_email['Signature'].fillna('')\n",
    "email_new = df_email.loc[df_email['Signature']!='']\n",
    "email_new.head()"
   ]
  },
  {
   "cell_type": "code",
   "execution_count": 218,
   "metadata": {},
   "outputs": [
    {
     "data": {
      "text/plain": [
       "287"
      ]
     },
     "execution_count": 218,
     "metadata": {},
     "output_type": "execute_result"
    }
   ],
   "source": [
    "len(email_new)"
   ]
  },
  {
   "cell_type": "code",
   "execution_count": 219,
   "metadata": {},
   "outputs": [
    {
     "name": "stderr",
     "output_type": "stream",
     "text": [
      "/home/prakash/anaconda3/envs/tensorflow/lib/python3.5/site-packages/ipykernel_launcher.py:1: UserWarning: Boolean Series key will be reindexed to match DataFrame index.\n",
      "  \"\"\"Entry point for launching an IPython kernel.\n"
     ]
    },
    {
     "data": {
      "text/html": [
       "<div>\n",
       "<style scoped>\n",
       "    .dataframe tbody tr th:only-of-type {\n",
       "        vertical-align: middle;\n",
       "    }\n",
       "\n",
       "    .dataframe tbody tr th {\n",
       "        vertical-align: top;\n",
       "    }\n",
       "\n",
       "    .dataframe thead th {\n",
       "        text-align: right;\n",
       "    }\n",
       "</style>\n",
       "<table border=\"1\" class=\"dataframe\">\n",
       "  <thead>\n",
       "    <tr style=\"text-align: right;\">\n",
       "      <th></th>\n",
       "      <th>index</th>\n",
       "      <th>Date</th>\n",
       "      <th>Message_body</th>\n",
       "      <th>Receiver</th>\n",
       "      <th>Sender</th>\n",
       "      <th>threadId</th>\n",
       "      <th>ids</th>\n",
       "      <th>Signature</th>\n",
       "    </tr>\n",
       "  </thead>\n",
       "  <tbody>\n",
       "    <tr>\n",
       "      <th>0</th>\n",
       "      <td>469</td>\n",
       "      <td>2019-04-13</td>\n",
       "      <td>Hi,\\n\\nI applied for domicile certificate for ...</td>\n",
       "      <td>edistrictgrievance@gmail.com</td>\n",
       "      <td>Vinayak Godse &lt;godvinayak@gmail.com&gt;</td>\n",
       "      <td>16a17658c5576835</td>\n",
       "      <td>140079662367712</td>\n",
       "      <td>regards\\nVinayak</td>\n",
       "    </tr>\n",
       "    <tr>\n",
       "      <th>1</th>\n",
       "      <td>537</td>\n",
       "      <td>2019-04-07</td>\n",
       "      <td>Yes, please send a person.\\n\\n\\n\\n\\nRegards\\nV...</td>\n",
       "      <td>Ankur Gupta6 &lt;Ankur.Gupta6@aexp.com&gt;</td>\n",
       "      <td>Vinayak Godse &lt;godvinayak@gmail.com&gt;</td>\n",
       "      <td>169ed0985f490cfa</td>\n",
       "      <td>140079662181992</td>\n",
       "      <td>Regards\\nVinayak</td>\n",
       "    </tr>\n",
       "    <tr>\n",
       "      <th>2</th>\n",
       "      <td>602</td>\n",
       "      <td>2019-04-01</td>\n",
       "      <td>Hi thanks for the sending me offer of possessi...</td>\n",
       "      <td>SJP Infracon ltd &lt;possession.sky@shrigroup.net&gt;</td>\n",
       "      <td>vinayak godse &lt;godvinayak@yahoo.com&gt;</td>\n",
       "      <td>169d97c5af9306db</td>\n",
       "      <td>1988131008</td>\n",
       "      <td>regards\\nVinayak Godse\\n\\nSent from my iPad\\n\\...</td>\n",
       "    </tr>\n",
       "    <tr>\n",
       "      <th>3</th>\n",
       "      <td>672</td>\n",
       "      <td>2019-03-26</td>\n",
       "      <td>Ranjit,\\n\\nWe need it in a readable format. Ea...</td>\n",
       "      <td>Ranjit Yewale &lt;ranjit@teckschool.com&gt;</td>\n",
       "      <td>Vinayak Godse &lt;godvinayak@gmail.com&gt;</td>\n",
       "      <td>168cde88221e4bd0</td>\n",
       "      <td>140079662209760</td>\n",
       "      <td>regards\\nVinayak</td>\n",
       "    </tr>\n",
       "    <tr>\n",
       "      <th>4</th>\n",
       "      <td>907</td>\n",
       "      <td>2019-03-05</td>\n",
       "      <td>You have to send it to the store in Dwarka 6 m...</td>\n",
       "      <td>Lenskart &lt;support@lenskart.com&gt;</td>\n",
       "      <td>Vinayak Godse &lt;godvinayak@gmail.com&gt;</td>\n",
       "      <td>1693a34dad89239e</td>\n",
       "      <td>140079661529968</td>\n",
       "      <td>Regards\\nVinayak</td>\n",
       "    </tr>\n",
       "  </tbody>\n",
       "</table>\n",
       "</div>"
      ],
      "text/plain": [
       "   index        Date                                       Message_body  \\\n",
       "0    469  2019-04-13  Hi,\\n\\nI applied for domicile certificate for ...   \n",
       "1    537  2019-04-07  Yes, please send a person.\\n\\n\\n\\n\\nRegards\\nV...   \n",
       "2    602  2019-04-01  Hi thanks for the sending me offer of possessi...   \n",
       "3    672  2019-03-26  Ranjit,\\n\\nWe need it in a readable format. Ea...   \n",
       "4    907  2019-03-05  You have to send it to the store in Dwarka 6 m...   \n",
       "\n",
       "                                          Receiver  \\\n",
       "0                     edistrictgrievance@gmail.com   \n",
       "1             Ankur Gupta6 <Ankur.Gupta6@aexp.com>   \n",
       "2  SJP Infracon ltd <possession.sky@shrigroup.net>   \n",
       "3            Ranjit Yewale <ranjit@teckschool.com>   \n",
       "4                  Lenskart <support@lenskart.com>   \n",
       "\n",
       "                                 Sender          threadId              ids  \\\n",
       "0  Vinayak Godse <godvinayak@gmail.com>  16a17658c5576835  140079662367712   \n",
       "1  Vinayak Godse <godvinayak@gmail.com>  169ed0985f490cfa  140079662181992   \n",
       "2  vinayak godse <godvinayak@yahoo.com>  169d97c5af9306db       1988131008   \n",
       "3  Vinayak Godse <godvinayak@gmail.com>  168cde88221e4bd0  140079662209760   \n",
       "4  Vinayak Godse <godvinayak@gmail.com>  1693a34dad89239e  140079661529968   \n",
       "\n",
       "                                           Signature  \n",
       "0                                   regards\\nVinayak  \n",
       "1                                   Regards\\nVinayak  \n",
       "2  regards\\nVinayak Godse\\n\\nSent from my iPad\\n\\...  \n",
       "3                                   regards\\nVinayak  \n",
       "4                                   Regards\\nVinayak  "
      ]
     },
     "execution_count": 219,
     "metadata": {},
     "output_type": "execute_result"
    }
   ],
   "source": [
    "gv_email = email_new[df_email.Sender.str.lower().apply(lambda x: 'vinayak godse' in x or 'godvinayak' in x)].reset_index()\n",
    "gv_email.head()"
   ]
  },
  {
   "cell_type": "code",
   "execution_count": 220,
   "metadata": {},
   "outputs": [],
   "source": [
    "def get_email_addr(s):\n",
    "    if '<' in s:\n",
    "        return s[s.find(\"<\")+1:s.find(\">\")]\n",
    "    else:\n",
    "        return s"
   ]
  },
  {
   "cell_type": "code",
   "execution_count": 221,
   "metadata": {},
   "outputs": [],
   "source": [
    "gv_email['Receiver'] = gv_email['Receiver'].fillna('')\n",
    "gv_email['Receiver'] = gv_email['Receiver'].apply(lambda x:get_email_addr(x))\n",
    "\n",
    "gv_email['Sender'] = gv_email['Sender'].fillna('')\n",
    "gv_email['Sender'] = gv_email['Sender'].apply(lambda x:get_email_addr(x))"
   ]
  },
  {
   "cell_type": "code",
   "execution_count": 222,
   "metadata": {},
   "outputs": [
    {
     "data": {
      "text/html": [
       "<div>\n",
       "<style scoped>\n",
       "    .dataframe tbody tr th:only-of-type {\n",
       "        vertical-align: middle;\n",
       "    }\n",
       "\n",
       "    .dataframe tbody tr th {\n",
       "        vertical-align: top;\n",
       "    }\n",
       "\n",
       "    .dataframe thead th {\n",
       "        text-align: right;\n",
       "    }\n",
       "</style>\n",
       "<table border=\"1\" class=\"dataframe\">\n",
       "  <thead>\n",
       "    <tr style=\"text-align: right;\">\n",
       "      <th></th>\n",
       "      <th>index</th>\n",
       "      <th>Date</th>\n",
       "      <th>Message_body</th>\n",
       "      <th>Receiver</th>\n",
       "      <th>Sender</th>\n",
       "      <th>threadId</th>\n",
       "      <th>ids</th>\n",
       "      <th>Signature</th>\n",
       "    </tr>\n",
       "  </thead>\n",
       "  <tbody>\n",
       "    <tr>\n",
       "      <th>0</th>\n",
       "      <td>469</td>\n",
       "      <td>2019-04-13</td>\n",
       "      <td>Hi,\\n\\nI applied for domicile certificate for ...</td>\n",
       "      <td>edistrictgrievance@gmail.com</td>\n",
       "      <td>godvinayak@gmail.com</td>\n",
       "      <td>16a17658c5576835</td>\n",
       "      <td>140079662367712</td>\n",
       "      <td>regards\\nVinayak</td>\n",
       "    </tr>\n",
       "    <tr>\n",
       "      <th>1</th>\n",
       "      <td>537</td>\n",
       "      <td>2019-04-07</td>\n",
       "      <td>Yes, please send a person.\\n\\n\\n\\n\\nRegards\\nV...</td>\n",
       "      <td>Ankur.Gupta6@aexp.com</td>\n",
       "      <td>godvinayak@gmail.com</td>\n",
       "      <td>169ed0985f490cfa</td>\n",
       "      <td>140079662181992</td>\n",
       "      <td>Regards\\nVinayak</td>\n",
       "    </tr>\n",
       "    <tr>\n",
       "      <th>2</th>\n",
       "      <td>602</td>\n",
       "      <td>2019-04-01</td>\n",
       "      <td>Hi thanks for the sending me offer of possessi...</td>\n",
       "      <td>possession.sky@shrigroup.net</td>\n",
       "      <td>godvinayak@yahoo.com</td>\n",
       "      <td>169d97c5af9306db</td>\n",
       "      <td>1988131008</td>\n",
       "      <td>regards\\nVinayak Godse\\n\\nSent from my iPad\\n\\...</td>\n",
       "    </tr>\n",
       "    <tr>\n",
       "      <th>3</th>\n",
       "      <td>672</td>\n",
       "      <td>2019-03-26</td>\n",
       "      <td>Ranjit,\\n\\nWe need it in a readable format. Ea...</td>\n",
       "      <td>ranjit@teckschool.com</td>\n",
       "      <td>godvinayak@gmail.com</td>\n",
       "      <td>168cde88221e4bd0</td>\n",
       "      <td>140079662209760</td>\n",
       "      <td>regards\\nVinayak</td>\n",
       "    </tr>\n",
       "    <tr>\n",
       "      <th>4</th>\n",
       "      <td>907</td>\n",
       "      <td>2019-03-05</td>\n",
       "      <td>You have to send it to the store in Dwarka 6 m...</td>\n",
       "      <td>support@lenskart.com</td>\n",
       "      <td>godvinayak@gmail.com</td>\n",
       "      <td>1693a34dad89239e</td>\n",
       "      <td>140079661529968</td>\n",
       "      <td>Regards\\nVinayak</td>\n",
       "    </tr>\n",
       "  </tbody>\n",
       "</table>\n",
       "</div>"
      ],
      "text/plain": [
       "   index        Date                                       Message_body  \\\n",
       "0    469  2019-04-13  Hi,\\n\\nI applied for domicile certificate for ...   \n",
       "1    537  2019-04-07  Yes, please send a person.\\n\\n\\n\\n\\nRegards\\nV...   \n",
       "2    602  2019-04-01  Hi thanks for the sending me offer of possessi...   \n",
       "3    672  2019-03-26  Ranjit,\\n\\nWe need it in a readable format. Ea...   \n",
       "4    907  2019-03-05  You have to send it to the store in Dwarka 6 m...   \n",
       "\n",
       "                       Receiver                Sender          threadId  \\\n",
       "0  edistrictgrievance@gmail.com  godvinayak@gmail.com  16a17658c5576835   \n",
       "1         Ankur.Gupta6@aexp.com  godvinayak@gmail.com  169ed0985f490cfa   \n",
       "2  possession.sky@shrigroup.net  godvinayak@yahoo.com  169d97c5af9306db   \n",
       "3         ranjit@teckschool.com  godvinayak@gmail.com  168cde88221e4bd0   \n",
       "4          support@lenskart.com  godvinayak@gmail.com  1693a34dad89239e   \n",
       "\n",
       "               ids                                          Signature  \n",
       "0  140079662367712                                   regards\\nVinayak  \n",
       "1  140079662181992                                   Regards\\nVinayak  \n",
       "2       1988131008  regards\\nVinayak Godse\\n\\nSent from my iPad\\n\\...  \n",
       "3  140079662209760                                   regards\\nVinayak  \n",
       "4  140079661529968                                   Regards\\nVinayak  "
      ]
     },
     "execution_count": 222,
     "metadata": {},
     "output_type": "execute_result"
    }
   ],
   "source": [
    "gv_email.head()"
   ]
  },
  {
   "cell_type": "code",
   "execution_count": 223,
   "metadata": {},
   "outputs": [],
   "source": [
    "gv_email['Receiver'] = gv_email['Receiver'].apply(lambda x:x.split(','))\n",
    "gv_email['Sender'] = gv_email['Sender'].apply(lambda x:x.split(','))"
   ]
  },
  {
   "cell_type": "code",
   "execution_count": 224,
   "metadata": {},
   "outputs": [],
   "source": [
    "import numpy as np\n",
    "lst_col = 'Receiver'\n",
    "test = pd.DataFrame({col:np.repeat(gv_email[col].values, gv_email[lst_col].str.len()) for col in gv_email.columns.difference([lst_col]) }).assign(**{lst_col:np.concatenate(gv_email[lst_col].values)})[gv_email.columns.tolist()]"
   ]
  },
  {
   "cell_type": "code",
   "execution_count": 225,
   "metadata": {},
   "outputs": [],
   "source": [
    "lst_col = 'Sender'\n",
    "test_df = pd.DataFrame({col:np.repeat(test[col].values, test[lst_col].str.len()) for col in test.columns.difference([lst_col]) }).assign(**{lst_col:np.concatenate(test[lst_col].values)})[test.columns.tolist()]"
   ]
  },
  {
   "cell_type": "code",
   "execution_count": 226,
   "metadata": {},
   "outputs": [],
   "source": [
    "test_df['Receiver']=test_df.Receiver.apply(lambda x: x.strip())"
   ]
  },
  {
   "cell_type": "code",
   "execution_count": 227,
   "metadata": {},
   "outputs": [
    {
     "data": {
      "text/html": [
       "<div>\n",
       "<style scoped>\n",
       "    .dataframe tbody tr th:only-of-type {\n",
       "        vertical-align: middle;\n",
       "    }\n",
       "\n",
       "    .dataframe tbody tr th {\n",
       "        vertical-align: top;\n",
       "    }\n",
       "\n",
       "    .dataframe thead th {\n",
       "        text-align: right;\n",
       "    }\n",
       "</style>\n",
       "<table border=\"1\" class=\"dataframe\">\n",
       "  <thead>\n",
       "    <tr style=\"text-align: right;\">\n",
       "      <th></th>\n",
       "      <th>index</th>\n",
       "      <th>Date</th>\n",
       "      <th>Message_body</th>\n",
       "      <th>Receiver</th>\n",
       "      <th>Sender</th>\n",
       "      <th>threadId</th>\n",
       "      <th>ids</th>\n",
       "      <th>Signature</th>\n",
       "    </tr>\n",
       "  </thead>\n",
       "  <tbody>\n",
       "    <tr>\n",
       "      <th>0</th>\n",
       "      <td>469</td>\n",
       "      <td>2019-04-13</td>\n",
       "      <td>Hi,\\n\\nI applied for domicile certificate for ...</td>\n",
       "      <td>edistrictgrievance@gmail.com</td>\n",
       "      <td>godvinayak@gmail.com</td>\n",
       "      <td>16a17658c5576835</td>\n",
       "      <td>140079662367712</td>\n",
       "      <td>regards\\nVinayak</td>\n",
       "    </tr>\n",
       "    <tr>\n",
       "      <th>1</th>\n",
       "      <td>537</td>\n",
       "      <td>2019-04-07</td>\n",
       "      <td>Yes, please send a person.\\n\\n\\n\\n\\nRegards\\nV...</td>\n",
       "      <td>Ankur.Gupta6@aexp.com</td>\n",
       "      <td>godvinayak@gmail.com</td>\n",
       "      <td>169ed0985f490cfa</td>\n",
       "      <td>140079662181992</td>\n",
       "      <td>Regards\\nVinayak</td>\n",
       "    </tr>\n",
       "    <tr>\n",
       "      <th>2</th>\n",
       "      <td>602</td>\n",
       "      <td>2019-04-01</td>\n",
       "      <td>Hi thanks for the sending me offer of possessi...</td>\n",
       "      <td>possession.sky@shrigroup.net</td>\n",
       "      <td>godvinayak@yahoo.com</td>\n",
       "      <td>169d97c5af9306db</td>\n",
       "      <td>1988131008</td>\n",
       "      <td>regards\\nVinayak Godse\\n\\nSent from my iPad\\n\\...</td>\n",
       "    </tr>\n",
       "    <tr>\n",
       "      <th>3</th>\n",
       "      <td>672</td>\n",
       "      <td>2019-03-26</td>\n",
       "      <td>Ranjit,\\n\\nWe need it in a readable format. Ea...</td>\n",
       "      <td>ranjit@teckschool.com</td>\n",
       "      <td>godvinayak@gmail.com</td>\n",
       "      <td>168cde88221e4bd0</td>\n",
       "      <td>140079662209760</td>\n",
       "      <td>regards\\nVinayak</td>\n",
       "    </tr>\n",
       "    <tr>\n",
       "      <th>4</th>\n",
       "      <td>907</td>\n",
       "      <td>2019-03-05</td>\n",
       "      <td>You have to send it to the store in Dwarka 6 m...</td>\n",
       "      <td>support@lenskart.com</td>\n",
       "      <td>godvinayak@gmail.com</td>\n",
       "      <td>1693a34dad89239e</td>\n",
       "      <td>140079661529968</td>\n",
       "      <td>Regards\\nVinayak</td>\n",
       "    </tr>\n",
       "  </tbody>\n",
       "</table>\n",
       "</div>"
      ],
      "text/plain": [
       "   index        Date                                       Message_body  \\\n",
       "0    469  2019-04-13  Hi,\\n\\nI applied for domicile certificate for ...   \n",
       "1    537  2019-04-07  Yes, please send a person.\\n\\n\\n\\n\\nRegards\\nV...   \n",
       "2    602  2019-04-01  Hi thanks for the sending me offer of possessi...   \n",
       "3    672  2019-03-26  Ranjit,\\n\\nWe need it in a readable format. Ea...   \n",
       "4    907  2019-03-05  You have to send it to the store in Dwarka 6 m...   \n",
       "\n",
       "                       Receiver                Sender          threadId  \\\n",
       "0  edistrictgrievance@gmail.com  godvinayak@gmail.com  16a17658c5576835   \n",
       "1         Ankur.Gupta6@aexp.com  godvinayak@gmail.com  169ed0985f490cfa   \n",
       "2  possession.sky@shrigroup.net  godvinayak@yahoo.com  169d97c5af9306db   \n",
       "3         ranjit@teckschool.com  godvinayak@gmail.com  168cde88221e4bd0   \n",
       "4          support@lenskart.com  godvinayak@gmail.com  1693a34dad89239e   \n",
       "\n",
       "               ids                                          Signature  \n",
       "0  140079662367712                                   regards\\nVinayak  \n",
       "1  140079662181992                                   Regards\\nVinayak  \n",
       "2       1988131008  regards\\nVinayak Godse\\n\\nSent from my iPad\\n\\...  \n",
       "3  140079662209760                                   regards\\nVinayak  \n",
       "4  140079661529968                                   Regards\\nVinayak  "
      ]
     },
     "execution_count": 227,
     "metadata": {},
     "output_type": "execute_result"
    }
   ],
   "source": [
    "test_df.head()"
   ]
  },
  {
   "cell_type": "markdown",
   "metadata": {},
   "source": [
    "### for recent email date and email_count"
   ]
  },
  {
   "cell_type": "code",
   "execution_count": 228,
   "metadata": {},
   "outputs": [],
   "source": [
    "def per_count(df):\n",
    "    person_count={}\n",
    "    for value, count in df[\"Receiver\"].value_counts().items():\n",
    "        person_count[value]=count\n",
    "    return person_count"
   ]
  },
  {
   "cell_type": "code",
   "execution_count": 229,
   "metadata": {},
   "outputs": [],
   "source": [
    "dic=per_count(test_df)"
   ]
  },
  {
   "cell_type": "code",
   "execution_count": 230,
   "metadata": {},
   "outputs": [],
   "source": [
    "def creat_count_df(dic):\n",
    "    person_count=pd.DataFrame(list(dic.items()))\n",
    "    person_count.columns=['receiver','count']\n",
    "    dates=person_count.receiver.apply(lambda x: test_df.loc[test_df.Receiver == x]['Date'].tolist())\n",
    "    person_count['dates'] = dates\n",
    "    return person_count"
   ]
  },
  {
   "cell_type": "code",
   "execution_count": 231,
   "metadata": {},
   "outputs": [],
   "source": [
    "person_count=creat_count_df(dic)"
   ]
  },
  {
   "cell_type": "code",
   "execution_count": 232,
   "metadata": {},
   "outputs": [
    {
     "data": {
      "text/html": [
       "<div>\n",
       "<style scoped>\n",
       "    .dataframe tbody tr th:only-of-type {\n",
       "        vertical-align: middle;\n",
       "    }\n",
       "\n",
       "    .dataframe tbody tr th {\n",
       "        vertical-align: top;\n",
       "    }\n",
       "\n",
       "    .dataframe thead th {\n",
       "        text-align: right;\n",
       "    }\n",
       "</style>\n",
       "<table border=\"1\" class=\"dataframe\">\n",
       "  <thead>\n",
       "    <tr style=\"text-align: right;\">\n",
       "      <th></th>\n",
       "      <th>receiver</th>\n",
       "      <th>count</th>\n",
       "      <th>dates</th>\n",
       "    </tr>\n",
       "  </thead>\n",
       "  <tbody>\n",
       "    <tr>\n",
       "      <th>0</th>\n",
       "      <td>shekhar.threepsolutions@gmail.com</td>\n",
       "      <td>1</td>\n",
       "      <td>[2017-12-17]</td>\n",
       "    </tr>\n",
       "    <tr>\n",
       "      <th>1</th>\n",
       "      <td>pranotikale2@gmail.com</td>\n",
       "      <td>1</td>\n",
       "      <td>[2018-03-31]</td>\n",
       "    </tr>\n",
       "    <tr>\n",
       "      <th>2</th>\n",
       "      <td>sachin.khalap@gmail.com</td>\n",
       "      <td>1</td>\n",
       "      <td>[2008-10-02]</td>\n",
       "    </tr>\n",
       "    <tr>\n",
       "      <th>3</th>\n",
       "      <td>anshu.malhotra@dsci.in</td>\n",
       "      <td>1</td>\n",
       "      <td>[2018-09-18]</td>\n",
       "    </tr>\n",
       "    <tr>\n",
       "      <th>4</th>\n",
       "      <td>dvivek1@gmail.com</td>\n",
       "      <td>2</td>\n",
       "      <td>[2007-12-12, 2007-12-07]</td>\n",
       "    </tr>\n",
       "  </tbody>\n",
       "</table>\n",
       "</div>"
      ],
      "text/plain": [
       "                            receiver  count                     dates\n",
       "0  shekhar.threepsolutions@gmail.com      1              [2017-12-17]\n",
       "1             pranotikale2@gmail.com      1              [2018-03-31]\n",
       "2            sachin.khalap@gmail.com      1              [2008-10-02]\n",
       "3             anshu.malhotra@dsci.in      1              [2018-09-18]\n",
       "4                  dvivek1@gmail.com      2  [2007-12-12, 2007-12-07]"
      ]
     },
     "execution_count": 232,
     "metadata": {},
     "output_type": "execute_result"
    }
   ],
   "source": [
    "person_count.head()"
   ]
  },
  {
   "cell_type": "code",
   "execution_count": 233,
   "metadata": {},
   "outputs": [],
   "source": [
    "from datetime import datetime\n",
    "def recent_email_date(dates):\n",
    "    try:\n",
    "        dates.sort(key = lambda date: datetime.strptime(str(date),'%Y-%m-%d')) # date format may change with data %d-day,%b-month,%Y-year\n",
    "    except:\n",
    "        pass\n",
    "    return dates[-1]    "
   ]
  },
  {
   "cell_type": "code",
   "execution_count": 234,
   "metadata": {},
   "outputs": [],
   "source": [
    "person_count['recent_date']=person_count.dates.apply(lambda x: recent_email_date(x))"
   ]
  },
  {
   "cell_type": "code",
   "execution_count": 235,
   "metadata": {},
   "outputs": [
    {
     "data": {
      "text/html": [
       "<div>\n",
       "<style scoped>\n",
       "    .dataframe tbody tr th:only-of-type {\n",
       "        vertical-align: middle;\n",
       "    }\n",
       "\n",
       "    .dataframe tbody tr th {\n",
       "        vertical-align: top;\n",
       "    }\n",
       "\n",
       "    .dataframe thead th {\n",
       "        text-align: right;\n",
       "    }\n",
       "</style>\n",
       "<table border=\"1\" class=\"dataframe\">\n",
       "  <thead>\n",
       "    <tr style=\"text-align: right;\">\n",
       "      <th></th>\n",
       "      <th>receiver</th>\n",
       "      <th>count</th>\n",
       "      <th>dates</th>\n",
       "      <th>recent_date</th>\n",
       "    </tr>\n",
       "  </thead>\n",
       "  <tbody>\n",
       "    <tr>\n",
       "      <th>0</th>\n",
       "      <td>shekhar.threepsolutions@gmail.com</td>\n",
       "      <td>1</td>\n",
       "      <td>[2017-12-17]</td>\n",
       "      <td>2017-12-17</td>\n",
       "    </tr>\n",
       "    <tr>\n",
       "      <th>1</th>\n",
       "      <td>pranotikale2@gmail.com</td>\n",
       "      <td>1</td>\n",
       "      <td>[2018-03-31]</td>\n",
       "      <td>2018-03-31</td>\n",
       "    </tr>\n",
       "    <tr>\n",
       "      <th>2</th>\n",
       "      <td>sachin.khalap@gmail.com</td>\n",
       "      <td>1</td>\n",
       "      <td>[2008-10-02]</td>\n",
       "      <td>2008-10-02</td>\n",
       "    </tr>\n",
       "    <tr>\n",
       "      <th>3</th>\n",
       "      <td>anshu.malhotra@dsci.in</td>\n",
       "      <td>1</td>\n",
       "      <td>[2018-09-18]</td>\n",
       "      <td>2018-09-18</td>\n",
       "    </tr>\n",
       "    <tr>\n",
       "      <th>4</th>\n",
       "      <td>dvivek1@gmail.com</td>\n",
       "      <td>2</td>\n",
       "      <td>[2007-12-07, 2007-12-12]</td>\n",
       "      <td>2007-12-12</td>\n",
       "    </tr>\n",
       "  </tbody>\n",
       "</table>\n",
       "</div>"
      ],
      "text/plain": [
       "                            receiver  count                     dates  \\\n",
       "0  shekhar.threepsolutions@gmail.com      1              [2017-12-17]   \n",
       "1             pranotikale2@gmail.com      1              [2018-03-31]   \n",
       "2            sachin.khalap@gmail.com      1              [2008-10-02]   \n",
       "3             anshu.malhotra@dsci.in      1              [2018-09-18]   \n",
       "4                  dvivek1@gmail.com      2  [2007-12-07, 2007-12-12]   \n",
       "\n",
       "  recent_date  \n",
       "0  2017-12-17  \n",
       "1  2018-03-31  \n",
       "2  2008-10-02  \n",
       "3  2018-09-18  \n",
       "4  2007-12-12  "
      ]
     },
     "execution_count": 235,
     "metadata": {},
     "output_type": "execute_result"
    }
   ],
   "source": [
    "person_count.head()"
   ]
  },
  {
   "cell_type": "code",
   "execution_count": 236,
   "metadata": {},
   "outputs": [
    {
     "data": {
      "text/html": [
       "<div>\n",
       "<style scoped>\n",
       "    .dataframe tbody tr th:only-of-type {\n",
       "        vertical-align: middle;\n",
       "    }\n",
       "\n",
       "    .dataframe tbody tr th {\n",
       "        vertical-align: top;\n",
       "    }\n",
       "\n",
       "    .dataframe thead th {\n",
       "        text-align: right;\n",
       "    }\n",
       "</style>\n",
       "<table border=\"1\" class=\"dataframe\">\n",
       "  <thead>\n",
       "    <tr style=\"text-align: right;\">\n",
       "      <th></th>\n",
       "      <th>receiver</th>\n",
       "      <th>count</th>\n",
       "      <th>recent_date</th>\n",
       "    </tr>\n",
       "  </thead>\n",
       "  <tbody>\n",
       "    <tr>\n",
       "      <th>0</th>\n",
       "      <td>shekhar.threepsolutions@gmail.com</td>\n",
       "      <td>1</td>\n",
       "      <td>2017-12-17</td>\n",
       "    </tr>\n",
       "    <tr>\n",
       "      <th>1</th>\n",
       "      <td>pranotikale2@gmail.com</td>\n",
       "      <td>1</td>\n",
       "      <td>2018-03-31</td>\n",
       "    </tr>\n",
       "    <tr>\n",
       "      <th>2</th>\n",
       "      <td>sachin.khalap@gmail.com</td>\n",
       "      <td>1</td>\n",
       "      <td>2008-10-02</td>\n",
       "    </tr>\n",
       "    <tr>\n",
       "      <th>3</th>\n",
       "      <td>anshu.malhotra@dsci.in</td>\n",
       "      <td>1</td>\n",
       "      <td>2018-09-18</td>\n",
       "    </tr>\n",
       "    <tr>\n",
       "      <th>4</th>\n",
       "      <td>dvivek1@gmail.com</td>\n",
       "      <td>2</td>\n",
       "      <td>2007-12-12</td>\n",
       "    </tr>\n",
       "    <tr>\n",
       "      <th>5</th>\n",
       "      <td>kailasbhat@yahoo.com</td>\n",
       "      <td>1</td>\n",
       "      <td>2018-12-27</td>\n",
       "    </tr>\n",
       "    <tr>\n",
       "      <th>6</th>\n",
       "      <td>h.kale0000@gmail.com</td>\n",
       "      <td>1</td>\n",
       "      <td>2016-08-20</td>\n",
       "    </tr>\n",
       "    <tr>\n",
       "      <th>7</th>\n",
       "      <td>animish.chavan7@gmail.com</td>\n",
       "      <td>1</td>\n",
       "      <td>2014-08-17</td>\n",
       "    </tr>\n",
       "    <tr>\n",
       "      <th>8</th>\n",
       "      <td>tarangshinde@gmail.com</td>\n",
       "      <td>2</td>\n",
       "      <td>2018-12-30</td>\n",
       "    </tr>\n",
       "    <tr>\n",
       "      <th>9</th>\n",
       "      <td>dhairyasheelb@gmail.com</td>\n",
       "      <td>1</td>\n",
       "      <td>2017-11-07</td>\n",
       "    </tr>\n",
       "  </tbody>\n",
       "</table>\n",
       "</div>"
      ],
      "text/plain": [
       "                            receiver  count recent_date\n",
       "0  shekhar.threepsolutions@gmail.com      1  2017-12-17\n",
       "1             pranotikale2@gmail.com      1  2018-03-31\n",
       "2            sachin.khalap@gmail.com      1  2008-10-02\n",
       "3             anshu.malhotra@dsci.in      1  2018-09-18\n",
       "4                  dvivek1@gmail.com      2  2007-12-12\n",
       "5               kailasbhat@yahoo.com      1  2018-12-27\n",
       "6               h.kale0000@gmail.com      1  2016-08-20\n",
       "7          animish.chavan7@gmail.com      1  2014-08-17\n",
       "8             tarangshinde@gmail.com      2  2018-12-30\n",
       "9            dhairyasheelb@gmail.com      1  2017-11-07"
      ]
     },
     "execution_count": 236,
     "metadata": {},
     "output_type": "execute_result"
    }
   ],
   "source": [
    "person_count=person_count.drop(['dates'],axis=1)\n",
    "person_count.head(10)"
   ]
  },
  {
   "cell_type": "markdown",
   "metadata": {},
   "source": [
    "### for extracting info from signature"
   ]
  },
  {
   "cell_type": "code",
   "execution_count": 237,
   "metadata": {},
   "outputs": [],
   "source": [
    "person_count['sender']=person_count.receiver.apply(lambda x: [ele for ele in test_df.loc[test_df['Receiver'] == x]['Sender'].unique()])"
   ]
  },
  {
   "cell_type": "code",
   "execution_count": 238,
   "metadata": {},
   "outputs": [
    {
     "data": {
      "text/html": [
       "<div>\n",
       "<style scoped>\n",
       "    .dataframe tbody tr th:only-of-type {\n",
       "        vertical-align: middle;\n",
       "    }\n",
       "\n",
       "    .dataframe tbody tr th {\n",
       "        vertical-align: top;\n",
       "    }\n",
       "\n",
       "    .dataframe thead th {\n",
       "        text-align: right;\n",
       "    }\n",
       "</style>\n",
       "<table border=\"1\" class=\"dataframe\">\n",
       "  <thead>\n",
       "    <tr style=\"text-align: right;\">\n",
       "      <th></th>\n",
       "      <th>receiver</th>\n",
       "      <th>count</th>\n",
       "      <th>recent_date</th>\n",
       "      <th>sender</th>\n",
       "    </tr>\n",
       "  </thead>\n",
       "  <tbody>\n",
       "    <tr>\n",
       "      <th>0</th>\n",
       "      <td>shekhar.threepsolutions@gmail.com</td>\n",
       "      <td>1</td>\n",
       "      <td>2017-12-17</td>\n",
       "      <td>[godvinayak@gmail.com]</td>\n",
       "    </tr>\n",
       "    <tr>\n",
       "      <th>1</th>\n",
       "      <td>pranotikale2@gmail.com</td>\n",
       "      <td>1</td>\n",
       "      <td>2018-03-31</td>\n",
       "      <td>[godvinayak@gmail.com]</td>\n",
       "    </tr>\n",
       "    <tr>\n",
       "      <th>2</th>\n",
       "      <td>sachin.khalap@gmail.com</td>\n",
       "      <td>1</td>\n",
       "      <td>2008-10-02</td>\n",
       "      <td>[godvinayak@gmail.com]</td>\n",
       "    </tr>\n",
       "    <tr>\n",
       "      <th>3</th>\n",
       "      <td>anshu.malhotra@dsci.in</td>\n",
       "      <td>1</td>\n",
       "      <td>2018-09-18</td>\n",
       "      <td>[godvinayak@gmail.com]</td>\n",
       "    </tr>\n",
       "    <tr>\n",
       "      <th>4</th>\n",
       "      <td>dvivek1@gmail.com</td>\n",
       "      <td>2</td>\n",
       "      <td>2007-12-12</td>\n",
       "      <td>[godvinayak@gmail.com]</td>\n",
       "    </tr>\n",
       "  </tbody>\n",
       "</table>\n",
       "</div>"
      ],
      "text/plain": [
       "                            receiver  count recent_date  \\\n",
       "0  shekhar.threepsolutions@gmail.com      1  2017-12-17   \n",
       "1             pranotikale2@gmail.com      1  2018-03-31   \n",
       "2            sachin.khalap@gmail.com      1  2008-10-02   \n",
       "3             anshu.malhotra@dsci.in      1  2018-09-18   \n",
       "4                  dvivek1@gmail.com      2  2007-12-12   \n",
       "\n",
       "                   sender  \n",
       "0  [godvinayak@gmail.com]  \n",
       "1  [godvinayak@gmail.com]  \n",
       "2  [godvinayak@gmail.com]  \n",
       "3  [godvinayak@gmail.com]  \n",
       "4  [godvinayak@gmail.com]  "
      ]
     },
     "execution_count": 238,
     "metadata": {},
     "output_type": "execute_result"
    }
   ],
   "source": [
    "person_count.head()"
   ]
  },
  {
   "cell_type": "code",
   "execution_count": 239,
   "metadata": {},
   "outputs": [],
   "source": [
    "person_count['sender']=person_count.sender.apply(lambda x: str(x).strip('[]').strip(\"''\"))"
   ]
  },
  {
   "cell_type": "code",
   "execution_count": 240,
   "metadata": {},
   "outputs": [
    {
     "data": {
      "text/html": [
       "<div>\n",
       "<style scoped>\n",
       "    .dataframe tbody tr th:only-of-type {\n",
       "        vertical-align: middle;\n",
       "    }\n",
       "\n",
       "    .dataframe tbody tr th {\n",
       "        vertical-align: top;\n",
       "    }\n",
       "\n",
       "    .dataframe thead th {\n",
       "        text-align: right;\n",
       "    }\n",
       "</style>\n",
       "<table border=\"1\" class=\"dataframe\">\n",
       "  <thead>\n",
       "    <tr style=\"text-align: right;\">\n",
       "      <th></th>\n",
       "      <th>receiver</th>\n",
       "      <th>count</th>\n",
       "      <th>recent_date</th>\n",
       "      <th>sender</th>\n",
       "    </tr>\n",
       "  </thead>\n",
       "  <tbody>\n",
       "    <tr>\n",
       "      <th>0</th>\n",
       "      <td>shekhar.threepsolutions@gmail.com</td>\n",
       "      <td>1</td>\n",
       "      <td>2017-12-17</td>\n",
       "      <td>godvinayak@gmail.com</td>\n",
       "    </tr>\n",
       "    <tr>\n",
       "      <th>1</th>\n",
       "      <td>pranotikale2@gmail.com</td>\n",
       "      <td>1</td>\n",
       "      <td>2018-03-31</td>\n",
       "      <td>godvinayak@gmail.com</td>\n",
       "    </tr>\n",
       "    <tr>\n",
       "      <th>2</th>\n",
       "      <td>sachin.khalap@gmail.com</td>\n",
       "      <td>1</td>\n",
       "      <td>2008-10-02</td>\n",
       "      <td>godvinayak@gmail.com</td>\n",
       "    </tr>\n",
       "    <tr>\n",
       "      <th>3</th>\n",
       "      <td>anshu.malhotra@dsci.in</td>\n",
       "      <td>1</td>\n",
       "      <td>2018-09-18</td>\n",
       "      <td>godvinayak@gmail.com</td>\n",
       "    </tr>\n",
       "    <tr>\n",
       "      <th>4</th>\n",
       "      <td>dvivek1@gmail.com</td>\n",
       "      <td>2</td>\n",
       "      <td>2007-12-12</td>\n",
       "      <td>godvinayak@gmail.com</td>\n",
       "    </tr>\n",
       "  </tbody>\n",
       "</table>\n",
       "</div>"
      ],
      "text/plain": [
       "                            receiver  count recent_date                sender\n",
       "0  shekhar.threepsolutions@gmail.com      1  2017-12-17  godvinayak@gmail.com\n",
       "1             pranotikale2@gmail.com      1  2018-03-31  godvinayak@gmail.com\n",
       "2            sachin.khalap@gmail.com      1  2008-10-02  godvinayak@gmail.com\n",
       "3             anshu.malhotra@dsci.in      1  2018-09-18  godvinayak@gmail.com\n",
       "4                  dvivek1@gmail.com      2  2007-12-12  godvinayak@gmail.com"
      ]
     },
     "execution_count": 240,
     "metadata": {},
     "output_type": "execute_result"
    }
   ],
   "source": [
    "person_count.head()"
   ]
  },
  {
   "cell_type": "code",
   "execution_count": 241,
   "metadata": {},
   "outputs": [],
   "source": [
    "person_count['signature']=person_count.receiver.apply(lambda x: [ele for ele in test_df.loc[test_df['Receiver'] == x]['Signature'].unique()])"
   ]
  },
  {
   "cell_type": "code",
   "execution_count": 242,
   "metadata": {},
   "outputs": [],
   "source": [
    "person_count['signature']=person_count.signature.apply(lambda x: str(x).strip('[]').strip(\"''\"))"
   ]
  },
  {
   "cell_type": "code",
   "execution_count": 243,
   "metadata": {},
   "outputs": [
    {
     "data": {
      "text/html": [
       "<div>\n",
       "<style scoped>\n",
       "    .dataframe tbody tr th:only-of-type {\n",
       "        vertical-align: middle;\n",
       "    }\n",
       "\n",
       "    .dataframe tbody tr th {\n",
       "        vertical-align: top;\n",
       "    }\n",
       "\n",
       "    .dataframe thead th {\n",
       "        text-align: right;\n",
       "    }\n",
       "</style>\n",
       "<table border=\"1\" class=\"dataframe\">\n",
       "  <thead>\n",
       "    <tr style=\"text-align: right;\">\n",
       "      <th></th>\n",
       "      <th>receiver</th>\n",
       "      <th>count</th>\n",
       "      <th>recent_date</th>\n",
       "      <th>sender</th>\n",
       "      <th>signature</th>\n",
       "    </tr>\n",
       "  </thead>\n",
       "  <tbody>\n",
       "    <tr>\n",
       "      <th>0</th>\n",
       "      <td>shekhar.threepsolutions@gmail.com</td>\n",
       "      <td>1</td>\n",
       "      <td>2017-12-17</td>\n",
       "      <td>godvinayak@gmail.com</td>\n",
       "      <td>Regards\\nVinayak</td>\n",
       "    </tr>\n",
       "    <tr>\n",
       "      <th>1</th>\n",
       "      <td>pranotikale2@gmail.com</td>\n",
       "      <td>1</td>\n",
       "      <td>2018-03-31</td>\n",
       "      <td>godvinayak@gmail.com</td>\n",
       "      <td>Regards\\nVinayak</td>\n",
       "    </tr>\n",
       "    <tr>\n",
       "      <th>2</th>\n",
       "      <td>sachin.khalap@gmail.com</td>\n",
       "      <td>1</td>\n",
       "      <td>2008-10-02</td>\n",
       "      <td>godvinayak@gmail.com</td>\n",
       "      <td>regards</td>\n",
       "    </tr>\n",
       "    <tr>\n",
       "      <th>3</th>\n",
       "      <td>anshu.malhotra@dsci.in</td>\n",
       "      <td>1</td>\n",
       "      <td>2018-09-18</td>\n",
       "      <td>godvinayak@gmail.com</td>\n",
       "      <td>Thanks,\\n\\nRudransh Mathur\\nCo-Founder,\\nNetwo...</td>\n",
       "    </tr>\n",
       "    <tr>\n",
       "      <th>4</th>\n",
       "      <td>dvivek1@gmail.com</td>\n",
       "      <td>2</td>\n",
       "      <td>2007-12-12</td>\n",
       "      <td>godvinayak@gmail.com</td>\n",
       "      <td>regards\\n\\nVinayak', 'regards\\n\\nV Godse</td>\n",
       "    </tr>\n",
       "  </tbody>\n",
       "</table>\n",
       "</div>"
      ],
      "text/plain": [
       "                            receiver  count recent_date                sender  \\\n",
       "0  shekhar.threepsolutions@gmail.com      1  2017-12-17  godvinayak@gmail.com   \n",
       "1             pranotikale2@gmail.com      1  2018-03-31  godvinayak@gmail.com   \n",
       "2            sachin.khalap@gmail.com      1  2008-10-02  godvinayak@gmail.com   \n",
       "3             anshu.malhotra@dsci.in      1  2018-09-18  godvinayak@gmail.com   \n",
       "4                  dvivek1@gmail.com      2  2007-12-12  godvinayak@gmail.com   \n",
       "\n",
       "                                           signature  \n",
       "0                                   Regards\\nVinayak  \n",
       "1                                   Regards\\nVinayak  \n",
       "2                                            regards  \n",
       "3  Thanks,\\n\\nRudransh Mathur\\nCo-Founder,\\nNetwo...  \n",
       "4           regards\\n\\nVinayak', 'regards\\n\\nV Godse  "
      ]
     },
     "execution_count": 243,
     "metadata": {},
     "output_type": "execute_result"
    }
   ],
   "source": [
    "person_count.head()"
   ]
  },
  {
   "cell_type": "code",
   "execution_count": 244,
   "metadata": {},
   "outputs": [
    {
     "data": {
      "text/plain": [
       "'Regards\\\\nVinayak'"
      ]
     },
     "execution_count": 244,
     "metadata": {},
     "output_type": "execute_result"
    }
   ],
   "source": [
    "person_count.signature[0]"
   ]
  },
  {
   "cell_type": "code",
   "execution_count": 288,
   "metadata": {},
   "outputs": [],
   "source": [
    "from fuzzywuzzy import fuzz\n",
    "from fuzzywuzzy import process\n",
    "\n",
    "job_title=['CEO','C.T.O','Manager','chief','officer','supervisor','vice precident','Director','HR','founder','engineer','Developer','consultant']\n",
    "\n",
    "def get_name(email,signature):\n",
    "    person=re.findall(r'.*?\\.*(.*)\\@.' ,email)\n",
    "    name=process.extractOne(str(person),signature.replace(',','\\\\n').split('\\\\n'))\n",
    "    if name[1] > 80:\n",
    "        return name[0]\n",
    "    else:\n",
    "        return ''\n",
    "    \n",
    "def get_company(email,signature):\n",
    "    comp=re.findall(r'.*?\\@(.*)\\.' ,email)\n",
    "    company=process.extractOne(str(comp),signature.replace(',','\\\\n').split('\\\\n'))\n",
    "    if company[1] > 80:\n",
    "        return company[0]\n",
    "    else:\n",
    "        return ''\n",
    "    \n",
    "def get_phone_no(signature):\n",
    "    ph_no=re.findall(r'[\\+\\(]?[0-9][0-9 .\\-\\(\\)]{8,}[0-9]',signature)\n",
    "    return \",\".join(ph_no)\n",
    "\n",
    "def get_position(signature):\n",
    "    positions = [process.extractOne(str(x),signature.replace(',','\\\\n').split('\\\\n')) for x in job_title]\n",
    "    positions = [p for p in positions if p[1]>75]\n",
    "    if len(positions) == 0:\n",
    "        return ''\n",
    "    else:\n",
    "        return positions[0][0]"
   ]
  },
  {
   "cell_type": "code",
   "execution_count": 289,
   "metadata": {},
   "outputs": [],
   "source": [
    "person_count['person_name'] = person_count.apply(lambda x: get_name(x.sender, x.signature), axis=1)\n",
    "person_count['company_name'] = person_count.apply(lambda x: get_company(x.sender, x.signature), axis=1)\n",
    "person_count['phone_no'] = person_count['signature'].apply(lambda x: get_phone_no(x))\n",
    "person_count['position'] = person_count['signature'].apply(lambda x: get_position(x))"
   ]
  },
  {
   "cell_type": "code",
   "execution_count": 290,
   "metadata": {},
   "outputs": [
    {
     "data": {
      "text/html": [
       "<div>\n",
       "<style scoped>\n",
       "    .dataframe tbody tr th:only-of-type {\n",
       "        vertical-align: middle;\n",
       "    }\n",
       "\n",
       "    .dataframe tbody tr th {\n",
       "        vertical-align: top;\n",
       "    }\n",
       "\n",
       "    .dataframe thead th {\n",
       "        text-align: right;\n",
       "    }\n",
       "</style>\n",
       "<table border=\"1\" class=\"dataframe\">\n",
       "  <thead>\n",
       "    <tr style=\"text-align: right;\">\n",
       "      <th></th>\n",
       "      <th>receiver</th>\n",
       "      <th>count</th>\n",
       "      <th>recent_date</th>\n",
       "      <th>sender</th>\n",
       "      <th>signature</th>\n",
       "      <th>person_name</th>\n",
       "      <th>company_name</th>\n",
       "      <th>phone_no</th>\n",
       "      <th>position</th>\n",
       "    </tr>\n",
       "  </thead>\n",
       "  <tbody>\n",
       "    <tr>\n",
       "      <th>0</th>\n",
       "      <td>shekhar.threepsolutions@gmail.com</td>\n",
       "      <td>1</td>\n",
       "      <td>2017-12-17</td>\n",
       "      <td>godvinayak@gmail.com</td>\n",
       "      <td>Regards\\nVinayak</td>\n",
       "      <td>Vinayak</td>\n",
       "      <td></td>\n",
       "      <td></td>\n",
       "      <td></td>\n",
       "    </tr>\n",
       "    <tr>\n",
       "      <th>1</th>\n",
       "      <td>pranotikale2@gmail.com</td>\n",
       "      <td>1</td>\n",
       "      <td>2018-03-31</td>\n",
       "      <td>godvinayak@gmail.com</td>\n",
       "      <td>Regards\\nVinayak</td>\n",
       "      <td>Vinayak</td>\n",
       "      <td></td>\n",
       "      <td></td>\n",
       "      <td></td>\n",
       "    </tr>\n",
       "    <tr>\n",
       "      <th>2</th>\n",
       "      <td>sachin.khalap@gmail.com</td>\n",
       "      <td>1</td>\n",
       "      <td>2008-10-02</td>\n",
       "      <td>godvinayak@gmail.com</td>\n",
       "      <td>regards</td>\n",
       "      <td></td>\n",
       "      <td></td>\n",
       "      <td></td>\n",
       "      <td></td>\n",
       "    </tr>\n",
       "    <tr>\n",
       "      <th>3</th>\n",
       "      <td>anshu.malhotra@dsci.in</td>\n",
       "      <td>1</td>\n",
       "      <td>2018-09-18</td>\n",
       "      <td>godvinayak@gmail.com</td>\n",
       "      <td>Thanks,\\n\\nRudransh Mathur\\nCo-Founder,\\nNetwo...</td>\n",
       "      <td>/godvinayak/rudransh</td>\n",
       "      <td></td>\n",
       "      <td>+91 8007390859</td>\n",
       "      <td>Co-Founder</td>\n",
       "    </tr>\n",
       "    <tr>\n",
       "      <th>4</th>\n",
       "      <td>dvivek1@gmail.com</td>\n",
       "      <td>2</td>\n",
       "      <td>2007-12-12</td>\n",
       "      <td>godvinayak@gmail.com</td>\n",
       "      <td>regards\\n\\nVinayak', 'regards\\n\\nV Godse</td>\n",
       "      <td>Vinayak'</td>\n",
       "      <td></td>\n",
       "      <td></td>\n",
       "      <td></td>\n",
       "    </tr>\n",
       "  </tbody>\n",
       "</table>\n",
       "</div>"
      ],
      "text/plain": [
       "                            receiver  count recent_date                sender  \\\n",
       "0  shekhar.threepsolutions@gmail.com      1  2017-12-17  godvinayak@gmail.com   \n",
       "1             pranotikale2@gmail.com      1  2018-03-31  godvinayak@gmail.com   \n",
       "2            sachin.khalap@gmail.com      1  2008-10-02  godvinayak@gmail.com   \n",
       "3             anshu.malhotra@dsci.in      1  2018-09-18  godvinayak@gmail.com   \n",
       "4                  dvivek1@gmail.com      2  2007-12-12  godvinayak@gmail.com   \n",
       "\n",
       "                                           signature           person_name  \\\n",
       "0                                   Regards\\nVinayak               Vinayak   \n",
       "1                                   Regards\\nVinayak               Vinayak   \n",
       "2                                            regards                         \n",
       "3  Thanks,\\n\\nRudransh Mathur\\nCo-Founder,\\nNetwo...  /godvinayak/rudransh   \n",
       "4           regards\\n\\nVinayak', 'regards\\n\\nV Godse              Vinayak'   \n",
       "\n",
       "  company_name        phone_no    position  \n",
       "0                                           \n",
       "1                                           \n",
       "2                                           \n",
       "3               +91 8007390859  Co-Founder  \n",
       "4                                           "
      ]
     },
     "execution_count": 290,
     "metadata": {},
     "output_type": "execute_result"
    }
   ],
   "source": [
    "person_count.head()"
   ]
  },
  {
   "cell_type": "code",
   "execution_count": 291,
   "metadata": {},
   "outputs": [],
   "source": [
    "person_count.to_csv('final_gv_email.csv',index=False)"
   ]
  },
  {
   "cell_type": "code",
   "execution_count": null,
   "metadata": {},
   "outputs": [],
   "source": []
  },
  {
   "cell_type": "markdown",
   "metadata": {},
   "source": [
    "### for all data"
   ]
  },
  {
   "cell_type": "code",
   "execution_count": 252,
   "metadata": {},
   "outputs": [
    {
     "data": {
      "text/html": [
       "<div>\n",
       "<style scoped>\n",
       "    .dataframe tbody tr th:only-of-type {\n",
       "        vertical-align: middle;\n",
       "    }\n",
       "\n",
       "    .dataframe tbody tr th {\n",
       "        vertical-align: top;\n",
       "    }\n",
       "\n",
       "    .dataframe thead th {\n",
       "        text-align: right;\n",
       "    }\n",
       "</style>\n",
       "<table border=\"1\" class=\"dataframe\">\n",
       "  <thead>\n",
       "    <tr style=\"text-align: right;\">\n",
       "      <th></th>\n",
       "      <th>Date</th>\n",
       "      <th>Message_body</th>\n",
       "      <th>Receiver</th>\n",
       "      <th>Sender</th>\n",
       "      <th>threadId</th>\n",
       "      <th>ids</th>\n",
       "      <th>Signature</th>\n",
       "    </tr>\n",
       "  </thead>\n",
       "  <tbody>\n",
       "    <tr>\n",
       "      <th>144</th>\n",
       "      <td>2019-05-14</td>\n",
       "      <td>Dear Sir,\\n\\nWe have received Rs.125,000/-.\\n\\...</td>\n",
       "      <td>Varad Godse &lt;godvarad@gmail.com&gt;, Finance &lt;Fin...</td>\n",
       "      <td>Divya Agrawal &lt;divya.agrawal@bennett.edu.in&gt;</td>\n",
       "      <td>16ab45f77fa7d4e0</td>\n",
       "      <td>1988755056</td>\n",
       "      <td>Regards\\nVarad Vinayak Godse\\n/admissions/fina...</td>\n",
       "    </tr>\n",
       "    <tr>\n",
       "      <th>145</th>\n",
       "      <td>2019-05-14</td>\n",
       "      <td>Thank you very much Sir.\\n\\nMy father has tran...</td>\n",
       "      <td>Admissions Bennett University &lt;admissions@benn...</td>\n",
       "      <td>Varad Godse &lt;godvarad@gmail.com&gt;</td>\n",
       "      <td>16a9b6a02ea160bc</td>\n",
       "      <td>140079661084976</td>\n",
       "      <td>Regards\\nVarad Vinayak Godse</td>\n",
       "    </tr>\n",
       "    <tr>\n",
       "      <th>151</th>\n",
       "      <td>2019-05-13</td>\n",
       "      <td>Varad\\nWe appreciate your concern\\nI am changi...</td>\n",
       "      <td>Varad Godse &lt;godvarad@gmail.com&gt;</td>\n",
       "      <td>Admissions Bennett University &lt;admissions@benn...</td>\n",
       "      <td>16a9b6a02ea160bc</td>\n",
       "      <td>1988013424</td>\n",
       "      <td>regards\\nVarad Vinayak Godse</td>\n",
       "    </tr>\n",
       "    <tr>\n",
       "      <th>155</th>\n",
       "      <td>2019-05-13</td>\n",
       "      <td>Dear Sir,\\n\\nSince I got the provisional admis...</td>\n",
       "      <td>Admissions Bennett University &lt;admissions@benn...</td>\n",
       "      <td>Varad Godse &lt;godvarad@gmail.com&gt;</td>\n",
       "      <td>16a9b6a02ea160bc</td>\n",
       "      <td>1987999744</td>\n",
       "      <td>regards\\nVarad Vinayak Godse</td>\n",
       "    </tr>\n",
       "    <tr>\n",
       "      <th>193</th>\n",
       "      <td>2019-05-09</td>\n",
       "      <td>Welcome on board Vinayak\\nBesties\\nRegistrar\\n...</td>\n",
       "      <td>Varad Godse &lt;godvarad@gmail.com&gt;</td>\n",
       "      <td>Admissions Bennett University &lt;admissions@benn...</td>\n",
       "      <td>16a9b6a02ea160bc</td>\n",
       "      <td>1988001072</td>\n",
       "      <td>Regards\\n\\nVinayak</td>\n",
       "    </tr>\n",
       "  </tbody>\n",
       "</table>\n",
       "</div>"
      ],
      "text/plain": [
       "           Date                                       Message_body  \\\n",
       "144  2019-05-14  Dear Sir,\\n\\nWe have received Rs.125,000/-.\\n\\...   \n",
       "145  2019-05-14  Thank you very much Sir.\\n\\nMy father has tran...   \n",
       "151  2019-05-13  Varad\\nWe appreciate your concern\\nI am changi...   \n",
       "155  2019-05-13  Dear Sir,\\n\\nSince I got the provisional admis...   \n",
       "193  2019-05-09  Welcome on board Vinayak\\nBesties\\nRegistrar\\n...   \n",
       "\n",
       "                                              Receiver  \\\n",
       "144  Varad Godse <godvarad@gmail.com>, Finance <Fin...   \n",
       "145  Admissions Bennett University <admissions@benn...   \n",
       "151                   Varad Godse <godvarad@gmail.com>   \n",
       "155  Admissions Bennett University <admissions@benn...   \n",
       "193                   Varad Godse <godvarad@gmail.com>   \n",
       "\n",
       "                                                Sender          threadId  \\\n",
       "144       Divya Agrawal <divya.agrawal@bennett.edu.in>  16ab45f77fa7d4e0   \n",
       "145                   Varad Godse <godvarad@gmail.com>  16a9b6a02ea160bc   \n",
       "151  Admissions Bennett University <admissions@benn...  16a9b6a02ea160bc   \n",
       "155                   Varad Godse <godvarad@gmail.com>  16a9b6a02ea160bc   \n",
       "193  Admissions Bennett University <admissions@benn...  16a9b6a02ea160bc   \n",
       "\n",
       "                 ids                                          Signature  \n",
       "144       1988755056  Regards\\nVarad Vinayak Godse\\n/admissions/fina...  \n",
       "145  140079661084976                       Regards\\nVarad Vinayak Godse  \n",
       "151       1988013424                       regards\\nVarad Vinayak Godse  \n",
       "155       1987999744                       regards\\nVarad Vinayak Godse  \n",
       "193       1988001072                                 Regards\\n\\nVinayak  "
      ]
     },
     "execution_count": 252,
     "metadata": {},
     "output_type": "execute_result"
    }
   ],
   "source": [
    "email_new.head()"
   ]
  },
  {
   "cell_type": "code",
   "execution_count": 253,
   "metadata": {},
   "outputs": [
    {
     "data": {
      "text/plain": [
       "287"
      ]
     },
     "execution_count": 253,
     "metadata": {},
     "output_type": "execute_result"
    }
   ],
   "source": [
    "len(email_new)"
   ]
  },
  {
   "cell_type": "code",
   "execution_count": 260,
   "metadata": {},
   "outputs": [],
   "source": [
    "from fuzzywuzzy import fuzz\n",
    "from fuzzywuzzy import process\n",
    "\n",
    "job_title=['CEO','C.T.O','Manager','chief','officer','supervisor','vice precident','Director','HR','founder','engineer','Developer','consultant']\n",
    "\n",
    "def get_name(email,signature):\n",
    "    person=re.findall(r'.*?\\.*(.*)\\@.' ,email)\n",
    "    name=process.extractOne(str(person),signature.split('\\n'))\n",
    "    if name[1] > 80:\n",
    "        return name[0]\n",
    "    else:\n",
    "        return ''\n",
    "    \n",
    "def get_company(email,signature):\n",
    "    comp=re.findall(r'.*?\\@(.*)\\.' ,email)\n",
    "    company=process.extractOne(str(comp),signature.split('\\n'))\n",
    "    if company[1] > 80:\n",
    "        return company[0]\n",
    "    else:\n",
    "        return ''\n",
    "    \n",
    "def get_phone_no(signature):\n",
    "    ph_no=re.findall(r'[\\+\\(]?[0-9][0-9 .\\-\\(\\)]{8,}[0-9]',signature)\n",
    "    return \",\".join(ph_no)\n",
    "\n",
    "def get_position(signature):\n",
    "    positions = [process.extractOne(str(x),signature.split('\\n')) for x in job_title]\n",
    "    positions = [p for p in positions if p[1]>75]\n",
    "    if len(positions) == 0:\n",
    "        return ''\n",
    "    else:\n",
    "        return positions[0][0]"
   ]
  },
  {
   "cell_type": "code",
   "execution_count": 261,
   "metadata": {},
   "outputs": [
    {
     "name": "stderr",
     "output_type": "stream",
     "text": [
      "/home/prakash/anaconda3/envs/tensorflow/lib/python3.5/site-packages/ipykernel_launcher.py:1: SettingWithCopyWarning: \n",
      "A value is trying to be set on a copy of a slice from a DataFrame.\n",
      "Try using .loc[row_indexer,col_indexer] = value instead\n",
      "\n",
      "See the caveats in the documentation: http://pandas.pydata.org/pandas-docs/stable/indexing.html#indexing-view-versus-copy\n",
      "  \"\"\"Entry point for launching an IPython kernel.\n",
      "/home/prakash/anaconda3/envs/tensorflow/lib/python3.5/site-packages/ipykernel_launcher.py:2: SettingWithCopyWarning: \n",
      "A value is trying to be set on a copy of a slice from a DataFrame.\n",
      "Try using .loc[row_indexer,col_indexer] = value instead\n",
      "\n",
      "See the caveats in the documentation: http://pandas.pydata.org/pandas-docs/stable/indexing.html#indexing-view-versus-copy\n",
      "  \n",
      "/home/prakash/anaconda3/envs/tensorflow/lib/python3.5/site-packages/ipykernel_launcher.py:3: SettingWithCopyWarning: \n",
      "A value is trying to be set on a copy of a slice from a DataFrame.\n",
      "Try using .loc[row_indexer,col_indexer] = value instead\n",
      "\n",
      "See the caveats in the documentation: http://pandas.pydata.org/pandas-docs/stable/indexing.html#indexing-view-versus-copy\n",
      "  This is separate from the ipykernel package so we can avoid doing imports until\n",
      "/home/prakash/anaconda3/envs/tensorflow/lib/python3.5/site-packages/ipykernel_launcher.py:4: SettingWithCopyWarning: \n",
      "A value is trying to be set on a copy of a slice from a DataFrame.\n",
      "Try using .loc[row_indexer,col_indexer] = value instead\n",
      "\n",
      "See the caveats in the documentation: http://pandas.pydata.org/pandas-docs/stable/indexing.html#indexing-view-versus-copy\n",
      "  after removing the cwd from sys.path.\n"
     ]
    }
   ],
   "source": [
    "email_new['person_name'] = email_new.apply(lambda x: get_name(x.Sender, x.Signature), axis=1)\n",
    "email_new['company_name'] = email_new.apply(lambda x: get_company(x.Sender, x.Signature), axis=1)\n",
    "email_new['phone_no'] = email_new['Signature'].apply(lambda x: get_phone_no(x))\n",
    "email_new['position'] = email_new['Signature'].apply(lambda x: get_position(x))"
   ]
  },
  {
   "cell_type": "code",
   "execution_count": 318,
   "metadata": {},
   "outputs": [
    {
     "data": {
      "text/html": [
       "<div>\n",
       "<style scoped>\n",
       "    .dataframe tbody tr th:only-of-type {\n",
       "        vertical-align: middle;\n",
       "    }\n",
       "\n",
       "    .dataframe tbody tr th {\n",
       "        vertical-align: top;\n",
       "    }\n",
       "\n",
       "    .dataframe thead th {\n",
       "        text-align: right;\n",
       "    }\n",
       "</style>\n",
       "<table border=\"1\" class=\"dataframe\">\n",
       "  <thead>\n",
       "    <tr style=\"text-align: right;\">\n",
       "      <th></th>\n",
       "      <th>Date</th>\n",
       "      <th>Message_body</th>\n",
       "      <th>Receiver</th>\n",
       "      <th>Sender</th>\n",
       "      <th>threadId</th>\n",
       "      <th>ids</th>\n",
       "      <th>Signature</th>\n",
       "      <th>person_name</th>\n",
       "      <th>company_name</th>\n",
       "      <th>phone_no</th>\n",
       "      <th>position</th>\n",
       "    </tr>\n",
       "  </thead>\n",
       "  <tbody>\n",
       "    <tr>\n",
       "      <th>2956</th>\n",
       "      <td>2018-09-18</td>\n",
       "      <td>ï¿½ \\n\\n http:\\n\\n--Click Here to unsubscribe ...</td>\n",
       "      <td>godvinayak@gmail.com</td>\n",
       "      <td>ZEE5 Support &lt;norpely@zee5.com&gt;</td>\n",
       "      <td>165ecb80d7f15fbe</td>\n",
       "      <td>140079662514704</td>\n",
       "      <td>--Click Here to unsubscribe from this newslett...</td>\n",
       "      <td></td>\n",
       "      <td></td>\n",
       "      <td></td>\n",
       "      <td></td>\n",
       "    </tr>\n",
       "    <tr>\n",
       "      <th>2967</th>\n",
       "      <td>2018-09-17</td>\n",
       "      <td>Hi Vinayak, \\nHereâ€™s a quick high level desi...</td>\n",
       "      <td>Vinayak Godse &lt;godvinayak@gmail.com&gt;</td>\n",
       "      <td>Rudransh Mathur &lt;rudransh@noct.in&gt;</td>\n",
       "      <td>165e70b3dd4a150b</td>\n",
       "      <td>2036631904</td>\n",
       "      <td>Thanks,\\n\\nRudransh Mathur \\nCo-Founder, \\nNet...</td>\n",
       "      <td>Rudransh Mathur</td>\n",
       "      <td>www.noct.in</td>\n",
       "      <td>+91 8007390859</td>\n",
       "      <td>Co-Founder,</td>\n",
       "    </tr>\n",
       "    <tr>\n",
       "      <th>2973</th>\n",
       "      <td>2018-09-16</td>\n",
       "      <td>ï¿½ \\n\\n http:\\n\\n--Click Here to unsubscribe ...</td>\n",
       "      <td>godvinayak@gmail.com</td>\n",
       "      <td>ZEE5 Support &lt;noreply@zee5.com&gt;</td>\n",
       "      <td>165e35f021d16d01</td>\n",
       "      <td>140079662518064</td>\n",
       "      <td>--Click Here to unsubscribe from this newslett...</td>\n",
       "      <td></td>\n",
       "      <td></td>\n",
       "      <td></td>\n",
       "      <td></td>\n",
       "    </tr>\n",
       "  </tbody>\n",
       "</table>\n",
       "</div>"
      ],
      "text/plain": [
       "            Date                                       Message_body  \\\n",
       "2956  2018-09-18  ï¿½ \\n\\n http:\\n\\n--Click Here to unsubscribe ...   \n",
       "2967  2018-09-17  Hi Vinayak, \\nHereâ€™s a quick high level desi...   \n",
       "2973  2018-09-16  ï¿½ \\n\\n http:\\n\\n--Click Here to unsubscribe ...   \n",
       "\n",
       "                                  Receiver  \\\n",
       "2956                  godvinayak@gmail.com   \n",
       "2967  Vinayak Godse <godvinayak@gmail.com>   \n",
       "2973                  godvinayak@gmail.com   \n",
       "\n",
       "                                  Sender          threadId              ids  \\\n",
       "2956     ZEE5 Support <norpely@zee5.com>  165ecb80d7f15fbe  140079662514704   \n",
       "2967  Rudransh Mathur <rudransh@noct.in>  165e70b3dd4a150b       2036631904   \n",
       "2973     ZEE5 Support <noreply@zee5.com>  165e35f021d16d01  140079662518064   \n",
       "\n",
       "                                              Signature       person_name  \\\n",
       "2956  --Click Here to unsubscribe from this newslett...                     \n",
       "2967  Thanks,\\n\\nRudransh Mathur \\nCo-Founder, \\nNet...  Rudransh Mathur    \n",
       "2973  --Click Here to unsubscribe from this newslett...                     \n",
       "\n",
       "     company_name        phone_no      position  \n",
       "2956                                             \n",
       "2967  www.noct.in  +91 8007390859  Co-Founder,   \n",
       "2973                                             "
      ]
     },
     "execution_count": 318,
     "metadata": {},
     "output_type": "execute_result"
    }
   ],
   "source": [
    "email_new[60:63]"
   ]
  },
  {
   "cell_type": "code",
   "execution_count": null,
   "metadata": {},
   "outputs": [],
   "source": []
  }
 ],
 "metadata": {
  "kernelspec": {
   "display_name": "Python 3",
   "language": "python",
   "name": "python3"
  },
  "language_info": {
   "codemirror_mode": {
    "name": "ipython",
    "version": 3
   },
   "file_extension": ".py",
   "mimetype": "text/x-python",
   "name": "python",
   "nbconvert_exporter": "python",
   "pygments_lexer": "ipython3",
   "version": "3.7.3"
  }
 },
 "nbformat": 4,
 "nbformat_minor": 2
}
